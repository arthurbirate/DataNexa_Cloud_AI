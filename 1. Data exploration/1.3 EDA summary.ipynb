{
 "cells": [
  {
   "cell_type": "markdown",
   "metadata": {},
   "source": [
    "<h2>Data exploration - DataNexa</h2>\n",
    "<h3>By Gilles, Asir & Arther</h3>\n"
   ]
  },
  {
   "cell_type": "markdown",
   "metadata": {},
   "source": [
    "In this notebook we will explain which EDA techniques we found that are really intresting and important to do on every dataset."
   ]
  },
  {
   "cell_type": "markdown",
   "metadata": {},
   "source": [
    "<h3>1.3 EDA summary</h3>\n",
    "\n",
    "<p>We will go over every step how we cleaned each dataset, first we need to install all the libraries for the cleaning.<p>"
   ]
  },
  {
   "cell_type": "code",
   "execution_count": null,
   "metadata": {},
   "outputs": [],
   "source": [
    "%pip install pandas\n",
    "%pip install matplotlib\n",
    "%pip install numpy\n",
    "%pip install scikit-learn\n",
    "%pip install xlrd\n",
    "%pip install openpyxl"
   ]
  },
  {
   "cell_type": "markdown",
   "metadata": {},
   "source": [
    "After everything is installed it is really important to check the current file with data and load it in a dataframe."
   ]
  },
  {
   "cell_type": "code",
   "execution_count": null,
   "metadata": {},
   "outputs": [],
   "source": [
    "import pandas as pd\n",
    "from matplotlib import pyplot as plt\n",
    "import numpy as np\n",
    "\n",
    "dataframe = pd.read_excel(\"Your_datafile\", sheet_name=1) # When you read excel the sheet_name variable will select which sheet it needs to read. \n",
    "# For example if you use multiple sheets you can create more dataframes for a neat overview\n",
    "# Or you can use pd.read_csv, html, etc... for other formats\n",
    "\n",
    "# Lets print the first lines to check if it was loaded correctly\n",
    "dataframe.head(20)"
   ]
  }
 ],
 "metadata": {
  "kernelspec": {
   "display_name": ".venv",
   "language": "python",
   "name": "python3"
  },
  "language_info": {
   "codemirror_mode": {
    "name": "ipython",
    "version": 3
   },
   "file_extension": ".py",
   "mimetype": "text/x-python",
   "name": "python",
   "nbconvert_exporter": "python",
   "pygments_lexer": "ipython3",
   "version": "3.9.6"
  }
 },
 "nbformat": 4,
 "nbformat_minor": 2
}
