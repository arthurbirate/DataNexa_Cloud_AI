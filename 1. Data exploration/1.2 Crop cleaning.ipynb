{
 "cells": [
  {
   "cell_type": "markdown",
   "metadata": {},
   "source": [
    "<h2>Crop EDA and Cleaning</h2>\n",
    "<h3>By Gilles, Asir & Arthur</h3>\n"
   ]
  },
  {
   "cell_type": "markdown",
   "metadata": {},
   "source": [
    "##### In this notebook, you can find all the **data exploration** and **cleaning** we did on the **crop** dataset."
   ]
  },
  {
   "cell_type": "markdown",
   "metadata": {},
   "source": [
    "<h3>1.2 The crop dataset</h3>\n",
    "\n",
    "##### First of all, we install all the neccesary libraries in our virtual environment."
   ]
  },
  {
   "cell_type": "code",
   "execution_count": 16,
   "metadata": {},
   "outputs": [
    {
     "name": "stdout",
     "output_type": "stream",
     "text": [
      "Requirement already satisfied: pandas in d:\\data nexa - cloud ai project git\\datanexa_cloud_ai\\.venv\\lib\\site-packages (1.5.3)\n",
      "Requirement already satisfied: python-dateutil>=2.8.1 in d:\\data nexa - cloud ai project git\\datanexa_cloud_ai\\.venv\\lib\\site-packages (from pandas) (2.8.2)\n",
      "Requirement already satisfied: pytz>=2020.1 in d:\\data nexa - cloud ai project git\\datanexa_cloud_ai\\.venv\\lib\\site-packages (from pandas) (2023.3.post1)\n",
      "Requirement already satisfied: numpy>=1.21.0 in d:\\data nexa - cloud ai project git\\datanexa_cloud_ai\\.venv\\lib\\site-packages (from pandas) (1.23.5)\n",
      "Requirement already satisfied: six>=1.5 in d:\\data nexa - cloud ai project git\\datanexa_cloud_ai\\.venv\\lib\\site-packages (from python-dateutil>=2.8.1->pandas) (1.16.0)\n",
      "Note: you may need to restart the kernel to use updated packages.\n",
      "Requirement already satisfied: matplotlib in d:\\data nexa - cloud ai project git\\datanexa_cloud_ai\\.venv\\lib\\site-packages (3.8.1)\n",
      "Requirement already satisfied: contourpy>=1.0.1 in d:\\data nexa - cloud ai project git\\datanexa_cloud_ai\\.venv\\lib\\site-packages (from matplotlib) (1.2.0)\n",
      "Requirement already satisfied: cycler>=0.10 in d:\\data nexa - cloud ai project git\\datanexa_cloud_ai\\.venv\\lib\\site-packages (from matplotlib) (0.12.1)\n",
      "Requirement already satisfied: fonttools>=4.22.0 in d:\\data nexa - cloud ai project git\\datanexa_cloud_ai\\.venv\\lib\\site-packages (from matplotlib) (4.44.0)\n",
      "Requirement already satisfied: kiwisolver>=1.3.1 in d:\\data nexa - cloud ai project git\\datanexa_cloud_ai\\.venv\\lib\\site-packages (from matplotlib) (1.4.5)\n",
      "Requirement already satisfied: numpy<2,>=1.21 in d:\\data nexa - cloud ai project git\\datanexa_cloud_ai\\.venv\\lib\\site-packages (from matplotlib) (1.23.5)\n",
      "Requirement already satisfied: packaging>=20.0 in d:\\data nexa - cloud ai project git\\datanexa_cloud_ai\\.venv\\lib\\site-packages (from matplotlib) (23.2)\n",
      "Requirement already satisfied: pillow>=8 in d:\\data nexa - cloud ai project git\\datanexa_cloud_ai\\.venv\\lib\\site-packages (from matplotlib) (10.1.0)\n",
      "Requirement already satisfied: pyparsing>=2.3.1 in d:\\data nexa - cloud ai project git\\datanexa_cloud_ai\\.venv\\lib\\site-packages (from matplotlib) (3.1.1)\n",
      "Requirement already satisfied: python-dateutil>=2.7 in d:\\data nexa - cloud ai project git\\datanexa_cloud_ai\\.venv\\lib\\site-packages (from matplotlib) (2.8.2)\n",
      "Requirement already satisfied: six>=1.5 in d:\\data nexa - cloud ai project git\\datanexa_cloud_ai\\.venv\\lib\\site-packages (from python-dateutil>=2.7->matplotlib) (1.16.0)\n",
      "Note: you may need to restart the kernel to use updated packages.\n",
      "Requirement already satisfied: numpy in d:\\data nexa - cloud ai project git\\datanexa_cloud_ai\\.venv\\lib\\site-packages (1.23.5)Note: you may need to restart the kernel to use updated packages.\n",
      "\n",
      "Requirement already satisfied: scikit-learn in d:\\data nexa - cloud ai project git\\datanexa_cloud_ai\\.venv\\lib\\site-packages (1.2.2)\n",
      "Requirement already satisfied: numpy>=1.17.3 in d:\\data nexa - cloud ai project git\\datanexa_cloud_ai\\.venv\\lib\\site-packages (from scikit-learn) (1.23.5)\n",
      "Requirement already satisfied: scipy>=1.3.2 in d:\\data nexa - cloud ai project git\\datanexa_cloud_ai\\.venv\\lib\\site-packages (from scikit-learn) (1.10.1)\n",
      "Requirement already satisfied: joblib>=1.1.1 in d:\\data nexa - cloud ai project git\\datanexa_cloud_ai\\.venv\\lib\\site-packages (from scikit-learn) (1.3.2)\n",
      "Requirement already satisfied: threadpoolctl>=2.0.0 in d:\\data nexa - cloud ai project git\\datanexa_cloud_ai\\.venv\\lib\\site-packages (from scikit-learn) (3.2.0)\n",
      "Note: you may need to restart the kernel to use updated packages.\n",
      "Requirement already satisfied: xlrd in d:\\data nexa - cloud ai project git\\datanexa_cloud_ai\\.venv\\lib\\site-packages (2.0.1)\n",
      "Note: you may need to restart the kernel to use updated packages.\n",
      "Requirement already satisfied: openpyxl in d:\\data nexa - cloud ai project git\\datanexa_cloud_ai\\.venv\\lib\\site-packages (3.1.2)\n",
      "Requirement already satisfied: et-xmlfile in d:\\data nexa - cloud ai project git\\datanexa_cloud_ai\\.venv\\lib\\site-packages (from openpyxl) (1.1.0)\n",
      "Note: you may need to restart the kernel to use updated packages.\n",
      "Requirement already satisfied: seaborn in d:\\data nexa - cloud ai project git\\datanexa_cloud_ai\\.venv\\lib\\site-packages (0.13.0)Note: you may need to restart the kernel to use updated packages.\n",
      "\n",
      "Requirement already satisfied: numpy!=1.24.0,>=1.20 in d:\\data nexa - cloud ai project git\\datanexa_cloud_ai\\.venv\\lib\\site-packages (from seaborn) (1.23.5)\n",
      "Requirement already satisfied: pandas>=1.2 in d:\\data nexa - cloud ai project git\\datanexa_cloud_ai\\.venv\\lib\\site-packages (from seaborn) (1.5.3)\n",
      "Requirement already satisfied: matplotlib!=3.6.1,>=3.3 in d:\\data nexa - cloud ai project git\\datanexa_cloud_ai\\.venv\\lib\\site-packages (from seaborn) (3.8.1)\n",
      "Requirement already satisfied: contourpy>=1.0.1 in d:\\data nexa - cloud ai project git\\datanexa_cloud_ai\\.venv\\lib\\site-packages (from matplotlib!=3.6.1,>=3.3->seaborn) (1.2.0)\n",
      "Requirement already satisfied: cycler>=0.10 in d:\\data nexa - cloud ai project git\\datanexa_cloud_ai\\.venv\\lib\\site-packages (from matplotlib!=3.6.1,>=3.3->seaborn) (0.12.1)\n",
      "Requirement already satisfied: fonttools>=4.22.0 in d:\\data nexa - cloud ai project git\\datanexa_cloud_ai\\.venv\\lib\\site-packages (from matplotlib!=3.6.1,>=3.3->seaborn) (4.44.0)\n",
      "Requirement already satisfied: kiwisolver>=1.3.1 in d:\\data nexa - cloud ai project git\\datanexa_cloud_ai\\.venv\\lib\\site-packages (from matplotlib!=3.6.1,>=3.3->seaborn) (1.4.5)\n",
      "Requirement already satisfied: packaging>=20.0 in d:\\data nexa - cloud ai project git\\datanexa_cloud_ai\\.venv\\lib\\site-packages (from matplotlib!=3.6.1,>=3.3->seaborn) (23.2)\n",
      "Requirement already satisfied: pillow>=8 in d:\\data nexa - cloud ai project git\\datanexa_cloud_ai\\.venv\\lib\\site-packages (from matplotlib!=3.6.1,>=3.3->seaborn) (10.1.0)\n",
      "Requirement already satisfied: pyparsing>=2.3.1 in d:\\data nexa - cloud ai project git\\datanexa_cloud_ai\\.venv\\lib\\site-packages (from matplotlib!=3.6.1,>=3.3->seaborn) (3.1.1)\n",
      "Requirement already satisfied: python-dateutil>=2.7 in d:\\data nexa - cloud ai project git\\datanexa_cloud_ai\\.venv\\lib\\site-packages (from matplotlib!=3.6.1,>=3.3->seaborn) (2.8.2)\n",
      "Requirement already satisfied: pytz>=2020.1 in d:\\data nexa - cloud ai project git\\datanexa_cloud_ai\\.venv\\lib\\site-packages (from pandas>=1.2->seaborn) (2023.3.post1)\n",
      "Requirement already satisfied: six>=1.5 in d:\\data nexa - cloud ai project git\\datanexa_cloud_ai\\.venv\\lib\\site-packages (from python-dateutil>=2.7->matplotlib!=3.6.1,>=3.3->seaborn) (1.16.0)\n"
     ]
    }
   ],
   "source": [
    "%pip install pandas\n",
    "%pip install matplotlib\n",
    "%pip install numpy\n",
    "%pip install scikit-learn\n",
    "%pip install xlrd\n",
    "%pip install openpyxl\n",
    "%pip install seaborn"
   ]
  },
  {
   "cell_type": "code",
   "execution_count": 17,
   "metadata": {},
   "outputs": [],
   "source": [
    "import pandas as pd\n",
    "import numpy as np\n",
    "from matplotlib import pyplot as plt\n",
    "import plotly.express as px\n",
    "import seaborn as sns"
   ]
  },
  {
   "cell_type": "markdown",
   "metadata": {},
   "source": [
    "##### Now, we will import our xlsx dataset. Let's load the cropstats (second excel sheet). We can do this by adding the variable \"sheet_name=1\" to our pd.read_excel line. \n",
    "##### Let's also print our first 10 lines to make sure the data is loaded correctly."
   ]
  },
  {
   "cell_type": "code",
   "execution_count": 18,
   "metadata": {},
   "outputs": [
    {
     "data": {
      "text/html": [
       "<div>\n",
       "<style scoped>\n",
       "    .dataframe tbody tr th:only-of-type {\n",
       "        vertical-align: middle;\n",
       "    }\n",
       "\n",
       "    .dataframe tbody tr th {\n",
       "        vertical-align: top;\n",
       "    }\n",
       "\n",
       "    .dataframe thead th {\n",
       "        text-align: right;\n",
       "    }\n",
       "</style>\n",
       "<table border=\"1\" class=\"dataframe\">\n",
       "  <thead>\n",
       "    <tr style=\"text-align: right;\">\n",
       "      <th></th>\n",
       "      <th>Unnamed: 0</th>\n",
       "      <th>Harvest_year</th>\n",
       "      <th>admin0</th>\n",
       "      <th>admin1</th>\n",
       "      <th>crop</th>\n",
       "      <th>hectares (ha)</th>\n",
       "      <th>production (tonnes)</th>\n",
       "      <th>year</th>\n",
       "      <th>yield(tonnes/ha)</th>\n",
       "      <th>admin2</th>\n",
       "      <th>notes</th>\n",
       "    </tr>\n",
       "  </thead>\n",
       "  <tbody>\n",
       "    <tr>\n",
       "      <th>0</th>\n",
       "      <td>0</td>\n",
       "      <td>1902</td>\n",
       "      <td>Austria</td>\n",
       "      <td>NaN</td>\n",
       "      <td>wheat</td>\n",
       "      <td>NaN</td>\n",
       "      <td>NaN</td>\n",
       "      <td>1902</td>\n",
       "      <td>1.31</td>\n",
       "      <td>NaN</td>\n",
       "      <td>NaN</td>\n",
       "    </tr>\n",
       "    <tr>\n",
       "      <th>1</th>\n",
       "      <td>1</td>\n",
       "      <td>1903</td>\n",
       "      <td>Austria</td>\n",
       "      <td>NaN</td>\n",
       "      <td>wheat</td>\n",
       "      <td>NaN</td>\n",
       "      <td>NaN</td>\n",
       "      <td>1903</td>\n",
       "      <td>1.47</td>\n",
       "      <td>NaN</td>\n",
       "      <td>NaN</td>\n",
       "    </tr>\n",
       "    <tr>\n",
       "      <th>2</th>\n",
       "      <td>2</td>\n",
       "      <td>1904</td>\n",
       "      <td>Austria</td>\n",
       "      <td>NaN</td>\n",
       "      <td>wheat</td>\n",
       "      <td>NaN</td>\n",
       "      <td>NaN</td>\n",
       "      <td>1904</td>\n",
       "      <td>1.27</td>\n",
       "      <td>NaN</td>\n",
       "      <td>NaN</td>\n",
       "    </tr>\n",
       "    <tr>\n",
       "      <th>3</th>\n",
       "      <td>3</td>\n",
       "      <td>1905</td>\n",
       "      <td>Austria</td>\n",
       "      <td>NaN</td>\n",
       "      <td>wheat</td>\n",
       "      <td>NaN</td>\n",
       "      <td>NaN</td>\n",
       "      <td>1905</td>\n",
       "      <td>1.33</td>\n",
       "      <td>NaN</td>\n",
       "      <td>NaN</td>\n",
       "    </tr>\n",
       "    <tr>\n",
       "      <th>4</th>\n",
       "      <td>4</td>\n",
       "      <td>1906</td>\n",
       "      <td>Austria</td>\n",
       "      <td>NaN</td>\n",
       "      <td>wheat</td>\n",
       "      <td>NaN</td>\n",
       "      <td>NaN</td>\n",
       "      <td>1906</td>\n",
       "      <td>1.28</td>\n",
       "      <td>NaN</td>\n",
       "      <td>NaN</td>\n",
       "    </tr>\n",
       "    <tr>\n",
       "      <th>5</th>\n",
       "      <td>5</td>\n",
       "      <td>1907</td>\n",
       "      <td>Austria</td>\n",
       "      <td>NaN</td>\n",
       "      <td>wheat</td>\n",
       "      <td>NaN</td>\n",
       "      <td>NaN</td>\n",
       "      <td>1907</td>\n",
       "      <td>1.37</td>\n",
       "      <td>NaN</td>\n",
       "      <td>NaN</td>\n",
       "    </tr>\n",
       "    <tr>\n",
       "      <th>6</th>\n",
       "      <td>6</td>\n",
       "      <td>1908</td>\n",
       "      <td>Austria</td>\n",
       "      <td>NaN</td>\n",
       "      <td>wheat</td>\n",
       "      <td>NaN</td>\n",
       "      <td>NaN</td>\n",
       "      <td>1908</td>\n",
       "      <td>1.36</td>\n",
       "      <td>NaN</td>\n",
       "      <td>NaN</td>\n",
       "    </tr>\n",
       "    <tr>\n",
       "      <th>7</th>\n",
       "      <td>7</td>\n",
       "      <td>1909</td>\n",
       "      <td>Austria</td>\n",
       "      <td>NaN</td>\n",
       "      <td>wheat</td>\n",
       "      <td>NaN</td>\n",
       "      <td>NaN</td>\n",
       "      <td>1909</td>\n",
       "      <td>1.35</td>\n",
       "      <td>NaN</td>\n",
       "      <td>NaN</td>\n",
       "    </tr>\n",
       "    <tr>\n",
       "      <th>8</th>\n",
       "      <td>8</td>\n",
       "      <td>1910</td>\n",
       "      <td>Austria</td>\n",
       "      <td>NaN</td>\n",
       "      <td>wheat</td>\n",
       "      <td>NaN</td>\n",
       "      <td>NaN</td>\n",
       "      <td>1910</td>\n",
       "      <td>1.18</td>\n",
       "      <td>NaN</td>\n",
       "      <td>NaN</td>\n",
       "    </tr>\n",
       "    <tr>\n",
       "      <th>9</th>\n",
       "      <td>9</td>\n",
       "      <td>1911</td>\n",
       "      <td>Austria</td>\n",
       "      <td>NaN</td>\n",
       "      <td>wheat</td>\n",
       "      <td>NaN</td>\n",
       "      <td>NaN</td>\n",
       "      <td>1911</td>\n",
       "      <td>1.37</td>\n",
       "      <td>NaN</td>\n",
       "      <td>NaN</td>\n",
       "    </tr>\n",
       "  </tbody>\n",
       "</table>\n",
       "</div>"
      ],
      "text/plain": [
       "   Unnamed: 0  Harvest_year   admin0 admin1   crop  hectares (ha)  \\\n",
       "0           0          1902  Austria    NaN  wheat            NaN   \n",
       "1           1          1903  Austria    NaN  wheat            NaN   \n",
       "2           2          1904  Austria    NaN  wheat            NaN   \n",
       "3           3          1905  Austria    NaN  wheat            NaN   \n",
       "4           4          1906  Austria    NaN  wheat            NaN   \n",
       "5           5          1907  Austria    NaN  wheat            NaN   \n",
       "6           6          1908  Austria    NaN  wheat            NaN   \n",
       "7           7          1909  Austria    NaN  wheat            NaN   \n",
       "8           8          1910  Austria    NaN  wheat            NaN   \n",
       "9           9          1911  Austria    NaN  wheat            NaN   \n",
       "\n",
       "   production (tonnes)  year  yield(tonnes/ha)  admin2 notes  \n",
       "0                  NaN  1902              1.31     NaN   NaN  \n",
       "1                  NaN  1903              1.47     NaN   NaN  \n",
       "2                  NaN  1904              1.27     NaN   NaN  \n",
       "3                  NaN  1905              1.33     NaN   NaN  \n",
       "4                  NaN  1906              1.28     NaN   NaN  \n",
       "5                  NaN  1907              1.37     NaN   NaN  \n",
       "6                  NaN  1908              1.36     NaN   NaN  \n",
       "7                  NaN  1909              1.35     NaN   NaN  \n",
       "8                  NaN  1910              1.18     NaN   NaN  \n",
       "9                  NaN  1911              1.37     NaN   NaN  "
      ]
     },
     "execution_count": 18,
     "metadata": {},
     "output_type": "execute_result"
    }
   ],
   "source": [
    "crop_data = pd.read_excel(\"../4. Other/4.1 Datasets/Crop/Crop.xlsx\", sheet_name=1)\n",
    "crop_data.head(10)"
   ]
  },
  {
   "cell_type": "markdown",
   "metadata": {},
   "source": [
    "##### Let's print the statistics of all the columns."
   ]
  },
  {
   "cell_type": "code",
   "execution_count": 19,
   "metadata": {},
   "outputs": [
    {
     "data": {
      "text/html": [
       "<div>\n",
       "<style scoped>\n",
       "    .dataframe tbody tr th:only-of-type {\n",
       "        vertical-align: middle;\n",
       "    }\n",
       "\n",
       "    .dataframe tbody tr th {\n",
       "        vertical-align: top;\n",
       "    }\n",
       "\n",
       "    .dataframe thead th {\n",
       "        text-align: right;\n",
       "    }\n",
       "</style>\n",
       "<table border=\"1\" class=\"dataframe\">\n",
       "  <thead>\n",
       "    <tr style=\"text-align: right;\">\n",
       "      <th></th>\n",
       "      <th>Unnamed: 0</th>\n",
       "      <th>Harvest_year</th>\n",
       "      <th>hectares (ha)</th>\n",
       "      <th>production (tonnes)</th>\n",
       "      <th>year</th>\n",
       "      <th>yield(tonnes/ha)</th>\n",
       "      <th>admin2</th>\n",
       "    </tr>\n",
       "  </thead>\n",
       "  <tbody>\n",
       "    <tr>\n",
       "      <th>count</th>\n",
       "      <td>36707.000000</td>\n",
       "      <td>36707.000000</td>\n",
       "      <td>3.508400e+04</td>\n",
       "      <td>3.470900e+04</td>\n",
       "      <td>36707.000000</td>\n",
       "      <td>34694.000000</td>\n",
       "      <td>0.0</td>\n",
       "    </tr>\n",
       "    <tr>\n",
       "      <th>mean</th>\n",
       "      <td>18353.000000</td>\n",
       "      <td>1954.416760</td>\n",
       "      <td>6.415462e+05</td>\n",
       "      <td>1.542239e+06</td>\n",
       "      <td>1954.402566</td>\n",
       "      <td>2.659986</td>\n",
       "      <td>NaN</td>\n",
       "    </tr>\n",
       "    <tr>\n",
       "      <th>std</th>\n",
       "      <td>10596.542502</td>\n",
       "      <td>39.055266</td>\n",
       "      <td>1.555087e+06</td>\n",
       "      <td>4.904090e+06</td>\n",
       "      <td>39.051385</td>\n",
       "      <td>2.229322</td>\n",
       "      <td>NaN</td>\n",
       "    </tr>\n",
       "    <tr>\n",
       "      <th>min</th>\n",
       "      <td>0.000000</td>\n",
       "      <td>1861.000000</td>\n",
       "      <td>0.000000e+00</td>\n",
       "      <td>0.000000e+00</td>\n",
       "      <td>1861.000000</td>\n",
       "      <td>0.053289</td>\n",
       "      <td>NaN</td>\n",
       "    </tr>\n",
       "    <tr>\n",
       "      <th>25%</th>\n",
       "      <td>9176.500000</td>\n",
       "      <td>1925.000000</td>\n",
       "      <td>2.913696e+04</td>\n",
       "      <td>5.568256e+04</td>\n",
       "      <td>1925.000000</td>\n",
       "      <td>1.124418</td>\n",
       "      <td>NaN</td>\n",
       "    </tr>\n",
       "    <tr>\n",
       "      <th>50%</th>\n",
       "      <td>18353.000000</td>\n",
       "      <td>1957.000000</td>\n",
       "      <td>1.620035e+05</td>\n",
       "      <td>2.942249e+05</td>\n",
       "      <td>1957.000000</td>\n",
       "      <td>1.851355</td>\n",
       "      <td>NaN</td>\n",
       "    </tr>\n",
       "    <tr>\n",
       "      <th>75%</th>\n",
       "      <td>27529.500000</td>\n",
       "      <td>1987.000000</td>\n",
       "      <td>6.110668e+05</td>\n",
       "      <td>1.153222e+06</td>\n",
       "      <td>1987.000000</td>\n",
       "      <td>3.439073</td>\n",
       "      <td>NaN</td>\n",
       "    </tr>\n",
       "    <tr>\n",
       "      <th>max</th>\n",
       "      <td>36706.000000</td>\n",
       "      <td>2019.000000</td>\n",
       "      <td>3.147000e+07</td>\n",
       "      <td>1.342875e+08</td>\n",
       "      <td>2019.000000</td>\n",
       "      <td>17.168477</td>\n",
       "      <td>NaN</td>\n",
       "    </tr>\n",
       "  </tbody>\n",
       "</table>\n",
       "</div>"
      ],
      "text/plain": [
       "         Unnamed: 0  Harvest_year  hectares (ha)  production (tonnes)  \\\n",
       "count  36707.000000  36707.000000   3.508400e+04         3.470900e+04   \n",
       "mean   18353.000000   1954.416760   6.415462e+05         1.542239e+06   \n",
       "std    10596.542502     39.055266   1.555087e+06         4.904090e+06   \n",
       "min        0.000000   1861.000000   0.000000e+00         0.000000e+00   \n",
       "25%     9176.500000   1925.000000   2.913696e+04         5.568256e+04   \n",
       "50%    18353.000000   1957.000000   1.620035e+05         2.942249e+05   \n",
       "75%    27529.500000   1987.000000   6.110668e+05         1.153222e+06   \n",
       "max    36706.000000   2019.000000   3.147000e+07         1.342875e+08   \n",
       "\n",
       "               year  yield(tonnes/ha)  admin2  \n",
       "count  36707.000000      34694.000000     0.0  \n",
       "mean    1954.402566          2.659986     NaN  \n",
       "std       39.051385          2.229322     NaN  \n",
       "min     1861.000000          0.053289     NaN  \n",
       "25%     1925.000000          1.124418     NaN  \n",
       "50%     1957.000000          1.851355     NaN  \n",
       "75%     1987.000000          3.439073     NaN  \n",
       "max     2019.000000         17.168477     NaN  "
      ]
     },
     "execution_count": 19,
     "metadata": {},
     "output_type": "execute_result"
    }
   ],
   "source": [
    "crop_data.describe()"
   ]
  },
  {
   "cell_type": "markdown",
   "metadata": {},
   "source": [
    "##### Now, let's see the data types of our dataset."
   ]
  },
  {
   "cell_type": "code",
   "execution_count": 20,
   "metadata": {},
   "outputs": [
    {
     "name": "stdout",
     "output_type": "stream",
     "text": [
      "<class 'pandas.core.frame.DataFrame'>\n",
      "RangeIndex: 36707 entries, 0 to 36706\n",
      "Data columns (total 11 columns):\n",
      " #   Column               Non-Null Count  Dtype  \n",
      "---  ------               --------------  -----  \n",
      " 0   Unnamed: 0           36707 non-null  int64  \n",
      " 1   Harvest_year         36707 non-null  int64  \n",
      " 2   admin0               36707 non-null  object \n",
      " 3   admin1               33716 non-null  object \n",
      " 4   crop                 36707 non-null  object \n",
      " 5   hectares (ha)        35084 non-null  float64\n",
      " 6   production (tonnes)  34709 non-null  float64\n",
      " 7   year                 36707 non-null  int64  \n",
      " 8   yield(tonnes/ha)     34694 non-null  float64\n",
      " 9   admin2               0 non-null      float64\n",
      " 10  notes                5641 non-null   object \n",
      "dtypes: float64(4), int64(3), object(4)\n",
      "memory usage: 3.1+ MB\n"
     ]
    }
   ],
   "source": [
    "crop_data.info()"
   ]
  },
  {
   "cell_type": "markdown",
   "metadata": {},
   "source": [
    "##### Let's drop the columns we don't need"
   ]
  },
  {
   "cell_type": "code",
   "execution_count": 21,
   "metadata": {},
   "outputs": [],
   "source": [
    "crop_data.drop(['admin2', 'notes'], axis=1, inplace=True)"
   ]
  },
  {
   "cell_type": "code",
   "execution_count": 22,
   "metadata": {},
   "outputs": [
    {
     "name": "stdout",
     "output_type": "stream",
     "text": [
      "Index(['Unnamed: 0', 'Harvest_year', 'admin0', 'admin1', 'crop',\n",
      "       'hectares (ha)', 'production (tonnes)', 'year', 'yield(tonnes/ha)'],\n",
      "      dtype='object')\n"
     ]
    }
   ],
   "source": [
    "print(crop_data.columns)"
   ]
  },
  {
   "cell_type": "markdown",
   "metadata": {},
   "source": [
    "##### Let's change the names of the columns now to make them more clear."
   ]
  },
  {
   "cell_type": "code",
   "execution_count": 23,
   "metadata": {},
   "outputs": [],
   "source": [
    "crop_data.columns = [\"index\",\"Harvest_year\",\"country\",\"state\",\"crop\",\"hectares\",\"production\",\"year\",\"yield\"]"
   ]
  },
  {
   "cell_type": "markdown",
   "metadata": {},
   "source": [
    "##### Now, let's print our colums"
   ]
  },
  {
   "cell_type": "code",
   "execution_count": 24,
   "metadata": {},
   "outputs": [
    {
     "name": "stdout",
     "output_type": "stream",
     "text": [
      "Index(['index', 'Harvest_year', 'country', 'state', 'crop', 'hectares',\n",
      "       'production', 'year', 'yield'],\n",
      "      dtype='object')\n"
     ]
    }
   ],
   "source": [
    "print(crop_data.columns)"
   ]
  },
  {
   "cell_type": "markdown",
   "metadata": {},
   "source": [
    "##### Now, let's construct a correlation matrix."
   ]
  },
  {
   "cell_type": "code",
   "execution_count": 25,
   "metadata": {},
   "outputs": [
    {
     "data": {
      "application/vnd.plotly.v1+json": {
       "config": {
        "plotlyServerURL": "https://plot.ly"
       },
       "data": [
        {
         "coloraxis": "coloraxis",
         "hovertemplate": "x: %{x}<br>y: %{y}<br>Correlation: %{z}<extra></extra>",
         "name": "0",
         "type": "heatmap",
         "x": [
          "Harvest_year",
          "hectares",
          "production",
          "year",
          "yield"
         ],
         "xaxis": "x",
         "y": [
          "Harvest_year",
          "hectares",
          "production",
          "year",
          "yield"
         ],
         "yaxis": "y",
         "z": [
          [
           1,
           0.06921145619350842,
           0.19887349901277057,
           0.9999954177517465,
           0.6329932134539089
          ],
          [
           0.06921145619350842,
           1,
           0.7755495330459587,
           0.06871530273625405,
           -0.03811102846408787
          ],
          [
           0.19887349901277057,
           0.7755495330459587,
           1,
           0.19872650730916766,
           0.22933131954118496
          ],
          [
           0.9999954177517465,
           0.06871530273625405,
           0.19872650730916766,
           1,
           0.6330531491826857
          ],
          [
           0.6329932134539089,
           -0.03811102846408787,
           0.22933131954118496,
           0.6330531491826857,
           1
          ]
         ]
        }
       ],
       "layout": {
        "coloraxis": {
         "colorbar": {
          "title": {
           "text": "Correlation"
          }
         },
         "colorscale": [
          [
           0,
           "rgb(247,251,255)"
          ],
          [
           0.125,
           "rgb(222,235,247)"
          ],
          [
           0.25,
           "rgb(198,219,239)"
          ],
          [
           0.375,
           "rgb(158,202,225)"
          ],
          [
           0.5,
           "rgb(107,174,214)"
          ],
          [
           0.625,
           "rgb(66,146,198)"
          ],
          [
           0.75,
           "rgb(33,113,181)"
          ],
          [
           0.875,
           "rgb(8,81,156)"
          ],
          [
           1,
           "rgb(8,48,107)"
          ]
         ]
        },
        "margin": {
         "t": 60
        },
        "template": {
         "data": {
          "bar": [
           {
            "error_x": {
             "color": "#2a3f5f"
            },
            "error_y": {
             "color": "#2a3f5f"
            },
            "marker": {
             "line": {
              "color": "#E5ECF6",
              "width": 0.5
             },
             "pattern": {
              "fillmode": "overlay",
              "size": 10,
              "solidity": 0.2
             }
            },
            "type": "bar"
           }
          ],
          "barpolar": [
           {
            "marker": {
             "line": {
              "color": "#E5ECF6",
              "width": 0.5
             },
             "pattern": {
              "fillmode": "overlay",
              "size": 10,
              "solidity": 0.2
             }
            },
            "type": "barpolar"
           }
          ],
          "carpet": [
           {
            "aaxis": {
             "endlinecolor": "#2a3f5f",
             "gridcolor": "white",
             "linecolor": "white",
             "minorgridcolor": "white",
             "startlinecolor": "#2a3f5f"
            },
            "baxis": {
             "endlinecolor": "#2a3f5f",
             "gridcolor": "white",
             "linecolor": "white",
             "minorgridcolor": "white",
             "startlinecolor": "#2a3f5f"
            },
            "type": "carpet"
           }
          ],
          "choropleth": [
           {
            "colorbar": {
             "outlinewidth": 0,
             "ticks": ""
            },
            "type": "choropleth"
           }
          ],
          "contour": [
           {
            "colorbar": {
             "outlinewidth": 0,
             "ticks": ""
            },
            "colorscale": [
             [
              0,
              "#0d0887"
             ],
             [
              0.1111111111111111,
              "#46039f"
             ],
             [
              0.2222222222222222,
              "#7201a8"
             ],
             [
              0.3333333333333333,
              "#9c179e"
             ],
             [
              0.4444444444444444,
              "#bd3786"
             ],
             [
              0.5555555555555556,
              "#d8576b"
             ],
             [
              0.6666666666666666,
              "#ed7953"
             ],
             [
              0.7777777777777778,
              "#fb9f3a"
             ],
             [
              0.8888888888888888,
              "#fdca26"
             ],
             [
              1,
              "#f0f921"
             ]
            ],
            "type": "contour"
           }
          ],
          "contourcarpet": [
           {
            "colorbar": {
             "outlinewidth": 0,
             "ticks": ""
            },
            "type": "contourcarpet"
           }
          ],
          "heatmap": [
           {
            "colorbar": {
             "outlinewidth": 0,
             "ticks": ""
            },
            "colorscale": [
             [
              0,
              "#0d0887"
             ],
             [
              0.1111111111111111,
              "#46039f"
             ],
             [
              0.2222222222222222,
              "#7201a8"
             ],
             [
              0.3333333333333333,
              "#9c179e"
             ],
             [
              0.4444444444444444,
              "#bd3786"
             ],
             [
              0.5555555555555556,
              "#d8576b"
             ],
             [
              0.6666666666666666,
              "#ed7953"
             ],
             [
              0.7777777777777778,
              "#fb9f3a"
             ],
             [
              0.8888888888888888,
              "#fdca26"
             ],
             [
              1,
              "#f0f921"
             ]
            ],
            "type": "heatmap"
           }
          ],
          "heatmapgl": [
           {
            "colorbar": {
             "outlinewidth": 0,
             "ticks": ""
            },
            "colorscale": [
             [
              0,
              "#0d0887"
             ],
             [
              0.1111111111111111,
              "#46039f"
             ],
             [
              0.2222222222222222,
              "#7201a8"
             ],
             [
              0.3333333333333333,
              "#9c179e"
             ],
             [
              0.4444444444444444,
              "#bd3786"
             ],
             [
              0.5555555555555556,
              "#d8576b"
             ],
             [
              0.6666666666666666,
              "#ed7953"
             ],
             [
              0.7777777777777778,
              "#fb9f3a"
             ],
             [
              0.8888888888888888,
              "#fdca26"
             ],
             [
              1,
              "#f0f921"
             ]
            ],
            "type": "heatmapgl"
           }
          ],
          "histogram": [
           {
            "marker": {
             "pattern": {
              "fillmode": "overlay",
              "size": 10,
              "solidity": 0.2
             }
            },
            "type": "histogram"
           }
          ],
          "histogram2d": [
           {
            "colorbar": {
             "outlinewidth": 0,
             "ticks": ""
            },
            "colorscale": [
             [
              0,
              "#0d0887"
             ],
             [
              0.1111111111111111,
              "#46039f"
             ],
             [
              0.2222222222222222,
              "#7201a8"
             ],
             [
              0.3333333333333333,
              "#9c179e"
             ],
             [
              0.4444444444444444,
              "#bd3786"
             ],
             [
              0.5555555555555556,
              "#d8576b"
             ],
             [
              0.6666666666666666,
              "#ed7953"
             ],
             [
              0.7777777777777778,
              "#fb9f3a"
             ],
             [
              0.8888888888888888,
              "#fdca26"
             ],
             [
              1,
              "#f0f921"
             ]
            ],
            "type": "histogram2d"
           }
          ],
          "histogram2dcontour": [
           {
            "colorbar": {
             "outlinewidth": 0,
             "ticks": ""
            },
            "colorscale": [
             [
              0,
              "#0d0887"
             ],
             [
              0.1111111111111111,
              "#46039f"
             ],
             [
              0.2222222222222222,
              "#7201a8"
             ],
             [
              0.3333333333333333,
              "#9c179e"
             ],
             [
              0.4444444444444444,
              "#bd3786"
             ],
             [
              0.5555555555555556,
              "#d8576b"
             ],
             [
              0.6666666666666666,
              "#ed7953"
             ],
             [
              0.7777777777777778,
              "#fb9f3a"
             ],
             [
              0.8888888888888888,
              "#fdca26"
             ],
             [
              1,
              "#f0f921"
             ]
            ],
            "type": "histogram2dcontour"
           }
          ],
          "mesh3d": [
           {
            "colorbar": {
             "outlinewidth": 0,
             "ticks": ""
            },
            "type": "mesh3d"
           }
          ],
          "parcoords": [
           {
            "line": {
             "colorbar": {
              "outlinewidth": 0,
              "ticks": ""
             }
            },
            "type": "parcoords"
           }
          ],
          "pie": [
           {
            "automargin": true,
            "type": "pie"
           }
          ],
          "scatter": [
           {
            "fillpattern": {
             "fillmode": "overlay",
             "size": 10,
             "solidity": 0.2
            },
            "type": "scatter"
           }
          ],
          "scatter3d": [
           {
            "line": {
             "colorbar": {
              "outlinewidth": 0,
              "ticks": ""
             }
            },
            "marker": {
             "colorbar": {
              "outlinewidth": 0,
              "ticks": ""
             }
            },
            "type": "scatter3d"
           }
          ],
          "scattercarpet": [
           {
            "marker": {
             "colorbar": {
              "outlinewidth": 0,
              "ticks": ""
             }
            },
            "type": "scattercarpet"
           }
          ],
          "scattergeo": [
           {
            "marker": {
             "colorbar": {
              "outlinewidth": 0,
              "ticks": ""
             }
            },
            "type": "scattergeo"
           }
          ],
          "scattergl": [
           {
            "marker": {
             "colorbar": {
              "outlinewidth": 0,
              "ticks": ""
             }
            },
            "type": "scattergl"
           }
          ],
          "scattermapbox": [
           {
            "marker": {
             "colorbar": {
              "outlinewidth": 0,
              "ticks": ""
             }
            },
            "type": "scattermapbox"
           }
          ],
          "scatterpolar": [
           {
            "marker": {
             "colorbar": {
              "outlinewidth": 0,
              "ticks": ""
             }
            },
            "type": "scatterpolar"
           }
          ],
          "scatterpolargl": [
           {
            "marker": {
             "colorbar": {
              "outlinewidth": 0,
              "ticks": ""
             }
            },
            "type": "scatterpolargl"
           }
          ],
          "scatterternary": [
           {
            "marker": {
             "colorbar": {
              "outlinewidth": 0,
              "ticks": ""
             }
            },
            "type": "scatterternary"
           }
          ],
          "surface": [
           {
            "colorbar": {
             "outlinewidth": 0,
             "ticks": ""
            },
            "colorscale": [
             [
              0,
              "#0d0887"
             ],
             [
              0.1111111111111111,
              "#46039f"
             ],
             [
              0.2222222222222222,
              "#7201a8"
             ],
             [
              0.3333333333333333,
              "#9c179e"
             ],
             [
              0.4444444444444444,
              "#bd3786"
             ],
             [
              0.5555555555555556,
              "#d8576b"
             ],
             [
              0.6666666666666666,
              "#ed7953"
             ],
             [
              0.7777777777777778,
              "#fb9f3a"
             ],
             [
              0.8888888888888888,
              "#fdca26"
             ],
             [
              1,
              "#f0f921"
             ]
            ],
            "type": "surface"
           }
          ],
          "table": [
           {
            "cells": {
             "fill": {
              "color": "#EBF0F8"
             },
             "line": {
              "color": "white"
             }
            },
            "header": {
             "fill": {
              "color": "#C8D4E3"
             },
             "line": {
              "color": "white"
             }
            },
            "type": "table"
           }
          ]
         },
         "layout": {
          "annotationdefaults": {
           "arrowcolor": "#2a3f5f",
           "arrowhead": 0,
           "arrowwidth": 1
          },
          "autotypenumbers": "strict",
          "coloraxis": {
           "colorbar": {
            "outlinewidth": 0,
            "ticks": ""
           }
          },
          "colorscale": {
           "diverging": [
            [
             0,
             "#8e0152"
            ],
            [
             0.1,
             "#c51b7d"
            ],
            [
             0.2,
             "#de77ae"
            ],
            [
             0.3,
             "#f1b6da"
            ],
            [
             0.4,
             "#fde0ef"
            ],
            [
             0.5,
             "#f7f7f7"
            ],
            [
             0.6,
             "#e6f5d0"
            ],
            [
             0.7,
             "#b8e186"
            ],
            [
             0.8,
             "#7fbc41"
            ],
            [
             0.9,
             "#4d9221"
            ],
            [
             1,
             "#276419"
            ]
           ],
           "sequential": [
            [
             0,
             "#0d0887"
            ],
            [
             0.1111111111111111,
             "#46039f"
            ],
            [
             0.2222222222222222,
             "#7201a8"
            ],
            [
             0.3333333333333333,
             "#9c179e"
            ],
            [
             0.4444444444444444,
             "#bd3786"
            ],
            [
             0.5555555555555556,
             "#d8576b"
            ],
            [
             0.6666666666666666,
             "#ed7953"
            ],
            [
             0.7777777777777778,
             "#fb9f3a"
            ],
            [
             0.8888888888888888,
             "#fdca26"
            ],
            [
             1,
             "#f0f921"
            ]
           ],
           "sequentialminus": [
            [
             0,
             "#0d0887"
            ],
            [
             0.1111111111111111,
             "#46039f"
            ],
            [
             0.2222222222222222,
             "#7201a8"
            ],
            [
             0.3333333333333333,
             "#9c179e"
            ],
            [
             0.4444444444444444,
             "#bd3786"
            ],
            [
             0.5555555555555556,
             "#d8576b"
            ],
            [
             0.6666666666666666,
             "#ed7953"
            ],
            [
             0.7777777777777778,
             "#fb9f3a"
            ],
            [
             0.8888888888888888,
             "#fdca26"
            ],
            [
             1,
             "#f0f921"
            ]
           ]
          },
          "colorway": [
           "#636efa",
           "#EF553B",
           "#00cc96",
           "#ab63fa",
           "#FFA15A",
           "#19d3f3",
           "#FF6692",
           "#B6E880",
           "#FF97FF",
           "#FECB52"
          ],
          "font": {
           "color": "#2a3f5f"
          },
          "geo": {
           "bgcolor": "white",
           "lakecolor": "white",
           "landcolor": "#E5ECF6",
           "showlakes": true,
           "showland": true,
           "subunitcolor": "white"
          },
          "hoverlabel": {
           "align": "left"
          },
          "hovermode": "closest",
          "mapbox": {
           "style": "light"
          },
          "paper_bgcolor": "white",
          "plot_bgcolor": "#E5ECF6",
          "polar": {
           "angularaxis": {
            "gridcolor": "white",
            "linecolor": "white",
            "ticks": ""
           },
           "bgcolor": "#E5ECF6",
           "radialaxis": {
            "gridcolor": "white",
            "linecolor": "white",
            "ticks": ""
           }
          },
          "scene": {
           "xaxis": {
            "backgroundcolor": "#E5ECF6",
            "gridcolor": "white",
            "gridwidth": 2,
            "linecolor": "white",
            "showbackground": true,
            "ticks": "",
            "zerolinecolor": "white"
           },
           "yaxis": {
            "backgroundcolor": "#E5ECF6",
            "gridcolor": "white",
            "gridwidth": 2,
            "linecolor": "white",
            "showbackground": true,
            "ticks": "",
            "zerolinecolor": "white"
           },
           "zaxis": {
            "backgroundcolor": "#E5ECF6",
            "gridcolor": "white",
            "gridwidth": 2,
            "linecolor": "white",
            "showbackground": true,
            "ticks": "",
            "zerolinecolor": "white"
           }
          },
          "shapedefaults": {
           "line": {
            "color": "#2a3f5f"
           }
          },
          "ternary": {
           "aaxis": {
            "gridcolor": "white",
            "linecolor": "white",
            "ticks": ""
           },
           "baxis": {
            "gridcolor": "white",
            "linecolor": "white",
            "ticks": ""
           },
           "bgcolor": "#E5ECF6",
           "caxis": {
            "gridcolor": "white",
            "linecolor": "white",
            "ticks": ""
           }
          },
          "title": {
           "x": 0.05
          },
          "xaxis": {
           "automargin": true,
           "gridcolor": "white",
           "linecolor": "white",
           "ticks": "",
           "title": {
            "standoff": 15
           },
           "zerolinecolor": "white",
           "zerolinewidth": 2
          },
          "yaxis": {
           "automargin": true,
           "gridcolor": "white",
           "linecolor": "white",
           "ticks": "",
           "title": {
            "standoff": 15
           },
           "zerolinecolor": "white",
           "zerolinewidth": 2
          }
         }
        },
        "width": 500,
        "xaxis": {
         "anchor": "y",
         "constrain": "domain",
         "domain": [
          0,
          1
         ],
         "scaleanchor": "y"
        },
        "yaxis": {
         "anchor": "x",
         "autorange": "reversed",
         "constrain": "domain",
         "domain": [
          0,
          1
         ]
        }
       }
      }
     },
     "metadata": {},
     "output_type": "display_data"
    }
   ],
   "source": [
    "#ignoringing the index column\n",
    "#by selecting the columns from the second one (index 1) to the last one (index -1)\n",
    "selected_columns = crop_data.iloc[:, 1:]\n",
    "\n",
    "# Computing the correlation matrix\n",
    "corr_matrix = selected_columns.corr(numeric_only=True)\n",
    "\n",
    "# heatmap with plotly\n",
    "fig = px.imshow(\n",
    "    corr_matrix, \n",
    "    color_continuous_scale='Blues', \n",
    "    labels=dict(color='Correlation'),\n",
    "    width=500)\n",
    "fig.show()"
   ]
  },
  {
   "cell_type": "markdown",
   "metadata": {},
   "source": [
    "##### Now, let's explore wheat production growth all over the world."
   ]
  },
  {
   "cell_type": "code",
   "execution_count": 29,
   "metadata": {},
   "outputs": [
    {
     "name": "stderr",
     "output_type": "stream",
     "text": [
      "C:\\Users\\asirf\\AppData\\Local\\Temp\\ipykernel_5328\\2669667876.py:3: FutureWarning:\n",
      "\n",
      "The default value of numeric_only in DataFrameGroupBy.sum is deprecated. In a future version, numeric_only will default to False. Either specify numeric_only or select only columns which should be valid for the function.\n",
      "\n"
     ]
    },
    {
     "data": {
      "application/vnd.plotly.v1+json": {
       "config": {
        "plotlyServerURL": "https://plot.ly"
       },
       "data": [
        {
         "hovertemplate": "year=%{x}<br>production=%{y}<extra></extra>",
         "legendgroup": "",
         "line": {
          "color": "#636efa",
          "dash": "solid"
         },
         "marker": {
          "symbol": "circle"
         },
         "mode": "lines",
         "name": "",
         "orientation": "v",
         "showlegend": false,
         "type": "scatter",
         "x": [
          1901,
          1902,
          1903,
          1904,
          1905,
          1906,
          1907,
          1908,
          1909,
          1910,
          1911,
          1912,
          1913,
          1914,
          1915,
          1916,
          1917,
          1918,
          1919,
          1920,
          1921,
          1922,
          1923,
          1924,
          1925,
          1926,
          1927,
          1928,
          1929,
          1930,
          1931,
          1932,
          1933,
          1934,
          1935,
          1936,
          1937,
          1938,
          1939,
          1940,
          1941,
          1942,
          1943,
          1944,
          1945,
          1946,
          1947,
          1948,
          1949,
          1950,
          1951,
          1952,
          1953,
          1954,
          1955,
          1956,
          1957,
          1958,
          1959,
          1960,
          1961,
          1962,
          1963,
          1964,
          1965,
          1966,
          1967,
          1968,
          1969,
          1970,
          1971,
          1972,
          1973,
          1974,
          1975,
          1976,
          1977,
          1978,
          1979,
          1980,
          1981,
          1982,
          1983,
          1984,
          1985,
          1986,
          1987,
          1988,
          1989,
          1990,
          1991,
          1992,
          1993,
          1994,
          1995,
          1996,
          1997,
          1998,
          1999,
          2000,
          2001,
          2002,
          2003,
          2004,
          2005,
          2006,
          2007,
          2008,
          2009,
          2010,
          2011,
          2012,
          2013,
          2014,
          2015,
          2016,
          2017
         ],
         "xaxis": "x",
         "y": [
          84155760.07243757,
          115400215.41214606,
          110634467.8789675,
          113282491.12811054,
          122294082.47154725,
          126537958.65156066,
          117097218.49616334,
          115394830.45118487,
          132535078.13506268,
          137273467.52118102,
          131685411.30706345,
          146369293.7681692,
          131064008.75086209,
          142990760.8067454,
          157641643.73051834,
          129956851.72181001,
          140598121.57435387,
          137862221.19724962,
          141593863.59178525,
          150457336.66047016,
          152297680.81702188,
          147267168.1183441,
          154186772.10053653,
          136721096.84667554,
          146656349.07816282,
          148543553.7133883,
          155497458.9053367,
          160317115.99526542,
          147206950.53060254,
          142390478.0808933,
          183748379.7830453,
          183870607.68624836,
          162958029.50040585,
          137710631.26277807,
          156864975.42421916,
          139688335.1163182,
          171631804.29087833,
          176067748.9529933,
          159097429.93740755,
          164792879.1632315,
          163221715.45503747,
          185671524.1886872,
          164662983.67662728,
          182044517.24259326,
          169015331.4440695,
          200859043.08371,
          185125283.94804743,
          204966849.310212,
          212983300.08154282,
          210357498.5843666,
          205647258.1504123,
          245231086.85357603,
          239947847.36821535,
          232682608.73846468,
          237953787.12172964,
          252503705.02221563,
          245631517.49683425,
          278483002.0788346,
          279058901.2817175,
          291365420.3086391,
          271433366.2726019,
          280764294.91332495,
          306237466.8459594,
          308362361.0605889,
          333351752.01037997,
          343418826.8632084,
          375520090.6545464,
          366531957.9922597,
          378231232.8299967,
          362703115.1666089,
          429754142.3964136,
          425318015.41683406,
          446913505.85759246,
          436465662.1109661,
          495051222.6255288,
          530101863.0509582,
          515638561.4831217,
          549292663.8708894,
          606015633.5230293,
          604918643.3525182,
          656727950.1351237,
          681867073.7795402,
          582936103.6742214,
          720653970.1917068,
          720045844.0561433,
          700155984.3309423,
          676639613.1643617,
          605033369.1471516,
          701835051.8926982,
          771183815.4863827,
          720864308.9416031,
          799672637.0279255,
          739351227.2599779,
          818031717.4459294,
          756990338.1495997,
          865827732.922868,
          864852625.7039448,
          897504914.2829199,
          885673179.6404079,
          865557099.0002024,
          837164538.5709362,
          812291771.4164115,
          859315109.0145924,
          948157844.4825264,
          906588473.2868631,
          916768637.0752437,
          1000401006.7068908,
          1038849384.8088338,
          1041817681.941522,
          1049347761.9234219,
          1069569618.4068431,
          1063714915.1595294,
          1170413537.2963026,
          1164068830.950041,
          1161720546.4855952,
          1210241159.0485363,
          1241142694.9982493
         ],
         "yaxis": "y"
        }
       ],
       "layout": {
        "legend": {
         "tracegroupgap": 0
        },
        "template": {
         "data": {
          "bar": [
           {
            "error_x": {
             "color": "#2a3f5f"
            },
            "error_y": {
             "color": "#2a3f5f"
            },
            "marker": {
             "line": {
              "color": "#E5ECF6",
              "width": 0.5
             },
             "pattern": {
              "fillmode": "overlay",
              "size": 10,
              "solidity": 0.2
             }
            },
            "type": "bar"
           }
          ],
          "barpolar": [
           {
            "marker": {
             "line": {
              "color": "#E5ECF6",
              "width": 0.5
             },
             "pattern": {
              "fillmode": "overlay",
              "size": 10,
              "solidity": 0.2
             }
            },
            "type": "barpolar"
           }
          ],
          "carpet": [
           {
            "aaxis": {
             "endlinecolor": "#2a3f5f",
             "gridcolor": "white",
             "linecolor": "white",
             "minorgridcolor": "white",
             "startlinecolor": "#2a3f5f"
            },
            "baxis": {
             "endlinecolor": "#2a3f5f",
             "gridcolor": "white",
             "linecolor": "white",
             "minorgridcolor": "white",
             "startlinecolor": "#2a3f5f"
            },
            "type": "carpet"
           }
          ],
          "choropleth": [
           {
            "colorbar": {
             "outlinewidth": 0,
             "ticks": ""
            },
            "type": "choropleth"
           }
          ],
          "contour": [
           {
            "colorbar": {
             "outlinewidth": 0,
             "ticks": ""
            },
            "colorscale": [
             [
              0,
              "#0d0887"
             ],
             [
              0.1111111111111111,
              "#46039f"
             ],
             [
              0.2222222222222222,
              "#7201a8"
             ],
             [
              0.3333333333333333,
              "#9c179e"
             ],
             [
              0.4444444444444444,
              "#bd3786"
             ],
             [
              0.5555555555555556,
              "#d8576b"
             ],
             [
              0.6666666666666666,
              "#ed7953"
             ],
             [
              0.7777777777777778,
              "#fb9f3a"
             ],
             [
              0.8888888888888888,
              "#fdca26"
             ],
             [
              1,
              "#f0f921"
             ]
            ],
            "type": "contour"
           }
          ],
          "contourcarpet": [
           {
            "colorbar": {
             "outlinewidth": 0,
             "ticks": ""
            },
            "type": "contourcarpet"
           }
          ],
          "heatmap": [
           {
            "colorbar": {
             "outlinewidth": 0,
             "ticks": ""
            },
            "colorscale": [
             [
              0,
              "#0d0887"
             ],
             [
              0.1111111111111111,
              "#46039f"
             ],
             [
              0.2222222222222222,
              "#7201a8"
             ],
             [
              0.3333333333333333,
              "#9c179e"
             ],
             [
              0.4444444444444444,
              "#bd3786"
             ],
             [
              0.5555555555555556,
              "#d8576b"
             ],
             [
              0.6666666666666666,
              "#ed7953"
             ],
             [
              0.7777777777777778,
              "#fb9f3a"
             ],
             [
              0.8888888888888888,
              "#fdca26"
             ],
             [
              1,
              "#f0f921"
             ]
            ],
            "type": "heatmap"
           }
          ],
          "heatmapgl": [
           {
            "colorbar": {
             "outlinewidth": 0,
             "ticks": ""
            },
            "colorscale": [
             [
              0,
              "#0d0887"
             ],
             [
              0.1111111111111111,
              "#46039f"
             ],
             [
              0.2222222222222222,
              "#7201a8"
             ],
             [
              0.3333333333333333,
              "#9c179e"
             ],
             [
              0.4444444444444444,
              "#bd3786"
             ],
             [
              0.5555555555555556,
              "#d8576b"
             ],
             [
              0.6666666666666666,
              "#ed7953"
             ],
             [
              0.7777777777777778,
              "#fb9f3a"
             ],
             [
              0.8888888888888888,
              "#fdca26"
             ],
             [
              1,
              "#f0f921"
             ]
            ],
            "type": "heatmapgl"
           }
          ],
          "histogram": [
           {
            "marker": {
             "pattern": {
              "fillmode": "overlay",
              "size": 10,
              "solidity": 0.2
             }
            },
            "type": "histogram"
           }
          ],
          "histogram2d": [
           {
            "colorbar": {
             "outlinewidth": 0,
             "ticks": ""
            },
            "colorscale": [
             [
              0,
              "#0d0887"
             ],
             [
              0.1111111111111111,
              "#46039f"
             ],
             [
              0.2222222222222222,
              "#7201a8"
             ],
             [
              0.3333333333333333,
              "#9c179e"
             ],
             [
              0.4444444444444444,
              "#bd3786"
             ],
             [
              0.5555555555555556,
              "#d8576b"
             ],
             [
              0.6666666666666666,
              "#ed7953"
             ],
             [
              0.7777777777777778,
              "#fb9f3a"
             ],
             [
              0.8888888888888888,
              "#fdca26"
             ],
             [
              1,
              "#f0f921"
             ]
            ],
            "type": "histogram2d"
           }
          ],
          "histogram2dcontour": [
           {
            "colorbar": {
             "outlinewidth": 0,
             "ticks": ""
            },
            "colorscale": [
             [
              0,
              "#0d0887"
             ],
             [
              0.1111111111111111,
              "#46039f"
             ],
             [
              0.2222222222222222,
              "#7201a8"
             ],
             [
              0.3333333333333333,
              "#9c179e"
             ],
             [
              0.4444444444444444,
              "#bd3786"
             ],
             [
              0.5555555555555556,
              "#d8576b"
             ],
             [
              0.6666666666666666,
              "#ed7953"
             ],
             [
              0.7777777777777778,
              "#fb9f3a"
             ],
             [
              0.8888888888888888,
              "#fdca26"
             ],
             [
              1,
              "#f0f921"
             ]
            ],
            "type": "histogram2dcontour"
           }
          ],
          "mesh3d": [
           {
            "colorbar": {
             "outlinewidth": 0,
             "ticks": ""
            },
            "type": "mesh3d"
           }
          ],
          "parcoords": [
           {
            "line": {
             "colorbar": {
              "outlinewidth": 0,
              "ticks": ""
             }
            },
            "type": "parcoords"
           }
          ],
          "pie": [
           {
            "automargin": true,
            "type": "pie"
           }
          ],
          "scatter": [
           {
            "fillpattern": {
             "fillmode": "overlay",
             "size": 10,
             "solidity": 0.2
            },
            "type": "scatter"
           }
          ],
          "scatter3d": [
           {
            "line": {
             "colorbar": {
              "outlinewidth": 0,
              "ticks": ""
             }
            },
            "marker": {
             "colorbar": {
              "outlinewidth": 0,
              "ticks": ""
             }
            },
            "type": "scatter3d"
           }
          ],
          "scattercarpet": [
           {
            "marker": {
             "colorbar": {
              "outlinewidth": 0,
              "ticks": ""
             }
            },
            "type": "scattercarpet"
           }
          ],
          "scattergeo": [
           {
            "marker": {
             "colorbar": {
              "outlinewidth": 0,
              "ticks": ""
             }
            },
            "type": "scattergeo"
           }
          ],
          "scattergl": [
           {
            "marker": {
             "colorbar": {
              "outlinewidth": 0,
              "ticks": ""
             }
            },
            "type": "scattergl"
           }
          ],
          "scattermapbox": [
           {
            "marker": {
             "colorbar": {
              "outlinewidth": 0,
              "ticks": ""
             }
            },
            "type": "scattermapbox"
           }
          ],
          "scatterpolar": [
           {
            "marker": {
             "colorbar": {
              "outlinewidth": 0,
              "ticks": ""
             }
            },
            "type": "scatterpolar"
           }
          ],
          "scatterpolargl": [
           {
            "marker": {
             "colorbar": {
              "outlinewidth": 0,
              "ticks": ""
             }
            },
            "type": "scatterpolargl"
           }
          ],
          "scatterternary": [
           {
            "marker": {
             "colorbar": {
              "outlinewidth": 0,
              "ticks": ""
             }
            },
            "type": "scatterternary"
           }
          ],
          "surface": [
           {
            "colorbar": {
             "outlinewidth": 0,
             "ticks": ""
            },
            "colorscale": [
             [
              0,
              "#0d0887"
             ],
             [
              0.1111111111111111,
              "#46039f"
             ],
             [
              0.2222222222222222,
              "#7201a8"
             ],
             [
              0.3333333333333333,
              "#9c179e"
             ],
             [
              0.4444444444444444,
              "#bd3786"
             ],
             [
              0.5555555555555556,
              "#d8576b"
             ],
             [
              0.6666666666666666,
              "#ed7953"
             ],
             [
              0.7777777777777778,
              "#fb9f3a"
             ],
             [
              0.8888888888888888,
              "#fdca26"
             ],
             [
              1,
              "#f0f921"
             ]
            ],
            "type": "surface"
           }
          ],
          "table": [
           {
            "cells": {
             "fill": {
              "color": "#EBF0F8"
             },
             "line": {
              "color": "white"
             }
            },
            "header": {
             "fill": {
              "color": "#C8D4E3"
             },
             "line": {
              "color": "white"
             }
            },
            "type": "table"
           }
          ]
         },
         "layout": {
          "annotationdefaults": {
           "arrowcolor": "#2a3f5f",
           "arrowhead": 0,
           "arrowwidth": 1
          },
          "autotypenumbers": "strict",
          "coloraxis": {
           "colorbar": {
            "outlinewidth": 0,
            "ticks": ""
           }
          },
          "colorscale": {
           "diverging": [
            [
             0,
             "#8e0152"
            ],
            [
             0.1,
             "#c51b7d"
            ],
            [
             0.2,
             "#de77ae"
            ],
            [
             0.3,
             "#f1b6da"
            ],
            [
             0.4,
             "#fde0ef"
            ],
            [
             0.5,
             "#f7f7f7"
            ],
            [
             0.6,
             "#e6f5d0"
            ],
            [
             0.7,
             "#b8e186"
            ],
            [
             0.8,
             "#7fbc41"
            ],
            [
             0.9,
             "#4d9221"
            ],
            [
             1,
             "#276419"
            ]
           ],
           "sequential": [
            [
             0,
             "#0d0887"
            ],
            [
             0.1111111111111111,
             "#46039f"
            ],
            [
             0.2222222222222222,
             "#7201a8"
            ],
            [
             0.3333333333333333,
             "#9c179e"
            ],
            [
             0.4444444444444444,
             "#bd3786"
            ],
            [
             0.5555555555555556,
             "#d8576b"
            ],
            [
             0.6666666666666666,
             "#ed7953"
            ],
            [
             0.7777777777777778,
             "#fb9f3a"
            ],
            [
             0.8888888888888888,
             "#fdca26"
            ],
            [
             1,
             "#f0f921"
            ]
           ],
           "sequentialminus": [
            [
             0,
             "#0d0887"
            ],
            [
             0.1111111111111111,
             "#46039f"
            ],
            [
             0.2222222222222222,
             "#7201a8"
            ],
            [
             0.3333333333333333,
             "#9c179e"
            ],
            [
             0.4444444444444444,
             "#bd3786"
            ],
            [
             0.5555555555555556,
             "#d8576b"
            ],
            [
             0.6666666666666666,
             "#ed7953"
            ],
            [
             0.7777777777777778,
             "#fb9f3a"
            ],
            [
             0.8888888888888888,
             "#fdca26"
            ],
            [
             1,
             "#f0f921"
            ]
           ]
          },
          "colorway": [
           "#636efa",
           "#EF553B",
           "#00cc96",
           "#ab63fa",
           "#FFA15A",
           "#19d3f3",
           "#FF6692",
           "#B6E880",
           "#FF97FF",
           "#FECB52"
          ],
          "font": {
           "color": "#2a3f5f"
          },
          "geo": {
           "bgcolor": "white",
           "lakecolor": "white",
           "landcolor": "#E5ECF6",
           "showlakes": true,
           "showland": true,
           "subunitcolor": "white"
          },
          "hoverlabel": {
           "align": "left"
          },
          "hovermode": "closest",
          "mapbox": {
           "style": "light"
          },
          "paper_bgcolor": "white",
          "plot_bgcolor": "#E5ECF6",
          "polar": {
           "angularaxis": {
            "gridcolor": "white",
            "linecolor": "white",
            "ticks": ""
           },
           "bgcolor": "#E5ECF6",
           "radialaxis": {
            "gridcolor": "white",
            "linecolor": "white",
            "ticks": ""
           }
          },
          "scene": {
           "xaxis": {
            "backgroundcolor": "#E5ECF6",
            "gridcolor": "white",
            "gridwidth": 2,
            "linecolor": "white",
            "showbackground": true,
            "ticks": "",
            "zerolinecolor": "white"
           },
           "yaxis": {
            "backgroundcolor": "#E5ECF6",
            "gridcolor": "white",
            "gridwidth": 2,
            "linecolor": "white",
            "showbackground": true,
            "ticks": "",
            "zerolinecolor": "white"
           },
           "zaxis": {
            "backgroundcolor": "#E5ECF6",
            "gridcolor": "white",
            "gridwidth": 2,
            "linecolor": "white",
            "showbackground": true,
            "ticks": "",
            "zerolinecolor": "white"
           }
          },
          "shapedefaults": {
           "line": {
            "color": "#2a3f5f"
           }
          },
          "ternary": {
           "aaxis": {
            "gridcolor": "white",
            "linecolor": "white",
            "ticks": ""
           },
           "baxis": {
            "gridcolor": "white",
            "linecolor": "white",
            "ticks": ""
           },
           "bgcolor": "#E5ECF6",
           "caxis": {
            "gridcolor": "white",
            "linecolor": "white",
            "ticks": ""
           }
          },
          "title": {
           "x": 0.05
          },
          "xaxis": {
           "automargin": true,
           "gridcolor": "white",
           "linecolor": "white",
           "ticks": "",
           "title": {
            "standoff": 15
           },
           "zerolinecolor": "white",
           "zerolinewidth": 2
          },
          "yaxis": {
           "automargin": true,
           "gridcolor": "white",
           "linecolor": "white",
           "ticks": "",
           "title": {
            "standoff": 15
           },
           "zerolinecolor": "white",
           "zerolinewidth": 2
          }
         }
        },
        "title": {
         "text": "Year by Year Worldwide Wheat Production Growth"
        },
        "width": 500,
        "xaxis": {
         "anchor": "y",
         "domain": [
          0,
          1
         ],
         "title": {
          "text": "year"
         }
        },
        "yaxis": {
         "anchor": "x",
         "domain": [
          0,
          1
         ],
         "title": {
          "text": "production"
         }
        }
       }
      }
     },
     "metadata": {},
     "output_type": "display_data"
    }
   ],
   "source": [
    "# Filter for years from 1901 to 2017\n",
    "df_wheat_year = crop_data[(crop_data[\"year\"] >= 1901) & (crop_data[\"year\"] <= 2017)]\n",
    "\n",
    "# Group by year and summing up the production\n",
    "df_wheat_year = df_wheat_year.groupby('year', as_index=False).sum()\n",
    "\n",
    "# Plotting the line plot\n",
    "fig = px.line(\n",
    "    df_wheat_year, \n",
    "    x=\"year\", \n",
    "    y=\"production\", \n",
    "    title=\"Year by Year Worldwide Wheat Production Growth\",\n",
    "    width=500)\n",
    "\n",
    "fig.show()"
   ]
  },
  {
   "cell_type": "markdown",
   "metadata": {},
   "source": [
    "#####  Now, let's change the letters to numbers so our model can work with it fluently. First we will label encode the crops. "
   ]
  },
  {
   "cell_type": "code",
   "execution_count": 30,
   "metadata": {},
   "outputs": [],
   "source": [
    "filter_wheat = (crop_data[\"crop\"] == \"wheat\")\n",
    "crop_data.loc[filter_wheat,\"crop\"] = 1\n",
    "filter_cereals = (crop_data[\"crop\"] == \"cereals'\")\n",
    "crop_data.loc[filter_cereals,\"crop\"] = 2\n",
    "filter_maize = (crop_data[\"crop\"] == \"maize\")\n",
    "crop_data.loc[filter_maize,\"crop\"] = 3\n",
    "filter_sp_wheat = (crop_data[\"crop\"] == \"spring wheat\")\n",
    "crop_data.loc[filter_sp_wheat,\"crop\"] = 4\n",
    "filter_winter_wheat = (crop_data[\"crop\"] == \"winter wheat\")\n",
    "crop_data.loc[filter_winter_wheat,\"crop\"] = 5"
   ]
  },
  {
   "cell_type": "markdown",
   "metadata": {},
   "source": [
    "##### Let's find out if it worked by printing out the first 10 rows."
   ]
  },
  {
   "cell_type": "code",
   "execution_count": 31,
   "metadata": {},
   "outputs": [
    {
     "data": {
      "text/html": [
       "<div>\n",
       "<style scoped>\n",
       "    .dataframe tbody tr th:only-of-type {\n",
       "        vertical-align: middle;\n",
       "    }\n",
       "\n",
       "    .dataframe tbody tr th {\n",
       "        vertical-align: top;\n",
       "    }\n",
       "\n",
       "    .dataframe thead th {\n",
       "        text-align: right;\n",
       "    }\n",
       "</style>\n",
       "<table border=\"1\" class=\"dataframe\">\n",
       "  <thead>\n",
       "    <tr style=\"text-align: right;\">\n",
       "      <th></th>\n",
       "      <th>index</th>\n",
       "      <th>Harvest_year</th>\n",
       "      <th>country</th>\n",
       "      <th>state</th>\n",
       "      <th>crop</th>\n",
       "      <th>hectares</th>\n",
       "      <th>production</th>\n",
       "      <th>year</th>\n",
       "      <th>yield</th>\n",
       "    </tr>\n",
       "  </thead>\n",
       "  <tbody>\n",
       "    <tr>\n",
       "      <th>0</th>\n",
       "      <td>0</td>\n",
       "      <td>1902</td>\n",
       "      <td>Austria</td>\n",
       "      <td>NaN</td>\n",
       "      <td>1</td>\n",
       "      <td>NaN</td>\n",
       "      <td>NaN</td>\n",
       "      <td>1902</td>\n",
       "      <td>1.31</td>\n",
       "    </tr>\n",
       "    <tr>\n",
       "      <th>1</th>\n",
       "      <td>1</td>\n",
       "      <td>1903</td>\n",
       "      <td>Austria</td>\n",
       "      <td>NaN</td>\n",
       "      <td>1</td>\n",
       "      <td>NaN</td>\n",
       "      <td>NaN</td>\n",
       "      <td>1903</td>\n",
       "      <td>1.47</td>\n",
       "    </tr>\n",
       "    <tr>\n",
       "      <th>2</th>\n",
       "      <td>2</td>\n",
       "      <td>1904</td>\n",
       "      <td>Austria</td>\n",
       "      <td>NaN</td>\n",
       "      <td>1</td>\n",
       "      <td>NaN</td>\n",
       "      <td>NaN</td>\n",
       "      <td>1904</td>\n",
       "      <td>1.27</td>\n",
       "    </tr>\n",
       "    <tr>\n",
       "      <th>3</th>\n",
       "      <td>3</td>\n",
       "      <td>1905</td>\n",
       "      <td>Austria</td>\n",
       "      <td>NaN</td>\n",
       "      <td>1</td>\n",
       "      <td>NaN</td>\n",
       "      <td>NaN</td>\n",
       "      <td>1905</td>\n",
       "      <td>1.33</td>\n",
       "    </tr>\n",
       "    <tr>\n",
       "      <th>4</th>\n",
       "      <td>4</td>\n",
       "      <td>1906</td>\n",
       "      <td>Austria</td>\n",
       "      <td>NaN</td>\n",
       "      <td>1</td>\n",
       "      <td>NaN</td>\n",
       "      <td>NaN</td>\n",
       "      <td>1906</td>\n",
       "      <td>1.28</td>\n",
       "    </tr>\n",
       "    <tr>\n",
       "      <th>5</th>\n",
       "      <td>5</td>\n",
       "      <td>1907</td>\n",
       "      <td>Austria</td>\n",
       "      <td>NaN</td>\n",
       "      <td>1</td>\n",
       "      <td>NaN</td>\n",
       "      <td>NaN</td>\n",
       "      <td>1907</td>\n",
       "      <td>1.37</td>\n",
       "    </tr>\n",
       "    <tr>\n",
       "      <th>6</th>\n",
       "      <td>6</td>\n",
       "      <td>1908</td>\n",
       "      <td>Austria</td>\n",
       "      <td>NaN</td>\n",
       "      <td>1</td>\n",
       "      <td>NaN</td>\n",
       "      <td>NaN</td>\n",
       "      <td>1908</td>\n",
       "      <td>1.36</td>\n",
       "    </tr>\n",
       "    <tr>\n",
       "      <th>7</th>\n",
       "      <td>7</td>\n",
       "      <td>1909</td>\n",
       "      <td>Austria</td>\n",
       "      <td>NaN</td>\n",
       "      <td>1</td>\n",
       "      <td>NaN</td>\n",
       "      <td>NaN</td>\n",
       "      <td>1909</td>\n",
       "      <td>1.35</td>\n",
       "    </tr>\n",
       "    <tr>\n",
       "      <th>8</th>\n",
       "      <td>8</td>\n",
       "      <td>1910</td>\n",
       "      <td>Austria</td>\n",
       "      <td>NaN</td>\n",
       "      <td>1</td>\n",
       "      <td>NaN</td>\n",
       "      <td>NaN</td>\n",
       "      <td>1910</td>\n",
       "      <td>1.18</td>\n",
       "    </tr>\n",
       "    <tr>\n",
       "      <th>9</th>\n",
       "      <td>9</td>\n",
       "      <td>1911</td>\n",
       "      <td>Austria</td>\n",
       "      <td>NaN</td>\n",
       "      <td>1</td>\n",
       "      <td>NaN</td>\n",
       "      <td>NaN</td>\n",
       "      <td>1911</td>\n",
       "      <td>1.37</td>\n",
       "    </tr>\n",
       "  </tbody>\n",
       "</table>\n",
       "</div>"
      ],
      "text/plain": [
       "   index  Harvest_year  country state crop  hectares  production  year  yield\n",
       "0      0          1902  Austria   NaN    1       NaN         NaN  1902   1.31\n",
       "1      1          1903  Austria   NaN    1       NaN         NaN  1903   1.47\n",
       "2      2          1904  Austria   NaN    1       NaN         NaN  1904   1.27\n",
       "3      3          1905  Austria   NaN    1       NaN         NaN  1905   1.33\n",
       "4      4          1906  Austria   NaN    1       NaN         NaN  1906   1.28\n",
       "5      5          1907  Austria   NaN    1       NaN         NaN  1907   1.37\n",
       "6      6          1908  Austria   NaN    1       NaN         NaN  1908   1.36\n",
       "7      7          1909  Austria   NaN    1       NaN         NaN  1909   1.35\n",
       "8      8          1910  Austria   NaN    1       NaN         NaN  1910   1.18\n",
       "9      9          1911  Austria   NaN    1       NaN         NaN  1911   1.37"
      ]
     },
     "execution_count": 31,
     "metadata": {},
     "output_type": "execute_result"
    }
   ],
   "source": [
    "crop_data.head(10)"
   ]
  },
  {
   "cell_type": "markdown",
   "metadata": {},
   "source": [
    "##### Checking null values, removing them and then checking again"
   ]
  },
  {
   "cell_type": "code",
   "execution_count": 32,
   "metadata": {},
   "outputs": [
    {
     "data": {
      "text/plain": [
       "index              0\n",
       "Harvest_year       0\n",
       "country            0\n",
       "state           2991\n",
       "crop               0\n",
       "hectares        1623\n",
       "production      1998\n",
       "year               0\n",
       "yield           2013\n",
       "dtype: int64"
      ]
     },
     "execution_count": 32,
     "metadata": {},
     "output_type": "execute_result"
    }
   ],
   "source": [
    "crop_data.isnull().sum()"
   ]
  },
  {
   "cell_type": "code",
   "execution_count": 33,
   "metadata": {},
   "outputs": [],
   "source": [
    "crop_data.dropna(inplace=True)"
   ]
  },
  {
   "cell_type": "code",
   "execution_count": 34,
   "metadata": {},
   "outputs": [
    {
     "data": {
      "text/plain": [
       "index           0\n",
       "Harvest_year    0\n",
       "country         0\n",
       "state           0\n",
       "crop            0\n",
       "hectares        0\n",
       "production      0\n",
       "year            0\n",
       "yield           0\n",
       "dtype: int64"
      ]
     },
     "execution_count": 34,
     "metadata": {},
     "output_type": "execute_result"
    }
   ],
   "source": [
    "crop_data.isnull().sum()"
   ]
  },
  {
   "cell_type": "code",
   "execution_count": 35,
   "metadata": {},
   "outputs": [
    {
     "data": {
      "text/html": [
       "<div>\n",
       "<style scoped>\n",
       "    .dataframe tbody tr th:only-of-type {\n",
       "        vertical-align: middle;\n",
       "    }\n",
       "\n",
       "    .dataframe tbody tr th {\n",
       "        vertical-align: top;\n",
       "    }\n",
       "\n",
       "    .dataframe thead th {\n",
       "        text-align: right;\n",
       "    }\n",
       "</style>\n",
       "<table border=\"1\" class=\"dataframe\">\n",
       "  <thead>\n",
       "    <tr style=\"text-align: right;\">\n",
       "      <th></th>\n",
       "      <th>index</th>\n",
       "      <th>Harvest_year</th>\n",
       "      <th>hectares</th>\n",
       "      <th>production</th>\n",
       "      <th>year</th>\n",
       "      <th>yield</th>\n",
       "    </tr>\n",
       "  </thead>\n",
       "  <tbody>\n",
       "    <tr>\n",
       "      <th>count</th>\n",
       "      <td>31477.000000</td>\n",
       "      <td>31477.000000</td>\n",
       "      <td>3.147700e+04</td>\n",
       "      <td>3.147700e+04</td>\n",
       "      <td>31477.000000</td>\n",
       "      <td>31477.000000</td>\n",
       "    </tr>\n",
       "    <tr>\n",
       "      <th>mean</th>\n",
       "      <td>18747.740255</td>\n",
       "      <td>1955.427709</td>\n",
       "      <td>5.074756e+05</td>\n",
       "      <td>1.376355e+06</td>\n",
       "      <td>1955.427709</td>\n",
       "      <td>2.683439</td>\n",
       "    </tr>\n",
       "    <tr>\n",
       "      <th>std</th>\n",
       "      <td>9945.459727</td>\n",
       "      <td>39.077905</td>\n",
       "      <td>9.361399e+05</td>\n",
       "      <td>4.304644e+06</td>\n",
       "      <td>39.077905</td>\n",
       "      <td>2.242563</td>\n",
       "    </tr>\n",
       "    <tr>\n",
       "      <th>min</th>\n",
       "      <td>575.000000</td>\n",
       "      <td>1861.000000</td>\n",
       "      <td>1.000000e+00</td>\n",
       "      <td>1.000000e+00</td>\n",
       "      <td>1861.000000</td>\n",
       "      <td>0.053289</td>\n",
       "    </tr>\n",
       "    <tr>\n",
       "      <th>25%</th>\n",
       "      <td>10211.000000</td>\n",
       "      <td>1926.000000</td>\n",
       "      <td>3.235900e+04</td>\n",
       "      <td>6.268220e+04</td>\n",
       "      <td>1926.000000</td>\n",
       "      <td>1.143275</td>\n",
       "    </tr>\n",
       "    <tr>\n",
       "      <th>50%</th>\n",
       "      <td>18858.000000</td>\n",
       "      <td>1959.000000</td>\n",
       "      <td>1.593000e+05</td>\n",
       "      <td>2.980623e+05</td>\n",
       "      <td>1959.000000</td>\n",
       "      <td>1.864642</td>\n",
       "    </tr>\n",
       "    <tr>\n",
       "      <th>75%</th>\n",
       "      <td>26735.000000</td>\n",
       "      <td>1988.000000</td>\n",
       "      <td>5.665520e+05</td>\n",
       "      <td>1.110293e+06</td>\n",
       "      <td>1988.000000</td>\n",
       "      <td>3.452293</td>\n",
       "    </tr>\n",
       "    <tr>\n",
       "      <th>max</th>\n",
       "      <td>36706.000000</td>\n",
       "      <td>2018.000000</td>\n",
       "      <td>2.023036e+07</td>\n",
       "      <td>1.342875e+08</td>\n",
       "      <td>2018.000000</td>\n",
       "      <td>17.168477</td>\n",
       "    </tr>\n",
       "  </tbody>\n",
       "</table>\n",
       "</div>"
      ],
      "text/plain": [
       "              index  Harvest_year      hectares    production          year  \\\n",
       "count  31477.000000  31477.000000  3.147700e+04  3.147700e+04  31477.000000   \n",
       "mean   18747.740255   1955.427709  5.074756e+05  1.376355e+06   1955.427709   \n",
       "std     9945.459727     39.077905  9.361399e+05  4.304644e+06     39.077905   \n",
       "min      575.000000   1861.000000  1.000000e+00  1.000000e+00   1861.000000   \n",
       "25%    10211.000000   1926.000000  3.235900e+04  6.268220e+04   1926.000000   \n",
       "50%    18858.000000   1959.000000  1.593000e+05  2.980623e+05   1959.000000   \n",
       "75%    26735.000000   1988.000000  5.665520e+05  1.110293e+06   1988.000000   \n",
       "max    36706.000000   2018.000000  2.023036e+07  1.342875e+08   2018.000000   \n",
       "\n",
       "              yield  \n",
       "count  31477.000000  \n",
       "mean       2.683439  \n",
       "std        2.242563  \n",
       "min        0.053289  \n",
       "25%        1.143275  \n",
       "50%        1.864642  \n",
       "75%        3.452293  \n",
       "max       17.168477  "
      ]
     },
     "execution_count": 35,
     "metadata": {},
     "output_type": "execute_result"
    }
   ],
   "source": [
    "crop_data.describe()"
   ]
  },
  {
   "cell_type": "code",
   "execution_count": 36,
   "metadata": {},
   "outputs": [
    {
     "data": {
      "text/html": [
       "<div>\n",
       "<style scoped>\n",
       "    .dataframe tbody tr th:only-of-type {\n",
       "        vertical-align: middle;\n",
       "    }\n",
       "\n",
       "    .dataframe tbody tr th {\n",
       "        vertical-align: top;\n",
       "    }\n",
       "\n",
       "    .dataframe thead th {\n",
       "        text-align: right;\n",
       "    }\n",
       "</style>\n",
       "<table border=\"1\" class=\"dataframe\">\n",
       "  <thead>\n",
       "    <tr style=\"text-align: right;\">\n",
       "      <th></th>\n",
       "      <th>index</th>\n",
       "      <th>Harvest_year</th>\n",
       "      <th>country</th>\n",
       "      <th>state</th>\n",
       "      <th>crop</th>\n",
       "      <th>hectares</th>\n",
       "      <th>production</th>\n",
       "      <th>year</th>\n",
       "      <th>yield</th>\n",
       "    </tr>\n",
       "  </thead>\n",
       "  <tbody>\n",
       "    <tr>\n",
       "      <th>575</th>\n",
       "      <td>575</td>\n",
       "      <td>1922</td>\n",
       "      <td>Indonesia</td>\n",
       "      <td>Java (and Madura)</td>\n",
       "      <td>3</td>\n",
       "      <td>1573000.0</td>\n",
       "      <td>1580000.0</td>\n",
       "      <td>1922</td>\n",
       "      <td>1.004450</td>\n",
       "    </tr>\n",
       "    <tr>\n",
       "      <th>576</th>\n",
       "      <td>576</td>\n",
       "      <td>1923</td>\n",
       "      <td>Indonesia</td>\n",
       "      <td>Java (and Madura)</td>\n",
       "      <td>3</td>\n",
       "      <td>1630000.0</td>\n",
       "      <td>1547000.0</td>\n",
       "      <td>1923</td>\n",
       "      <td>0.949080</td>\n",
       "    </tr>\n",
       "    <tr>\n",
       "      <th>577</th>\n",
       "      <td>577</td>\n",
       "      <td>1924</td>\n",
       "      <td>Indonesia</td>\n",
       "      <td>Java (and Madura)</td>\n",
       "      <td>3</td>\n",
       "      <td>1763000.0</td>\n",
       "      <td>1721000.0</td>\n",
       "      <td>1924</td>\n",
       "      <td>0.976177</td>\n",
       "    </tr>\n",
       "    <tr>\n",
       "      <th>578</th>\n",
       "      <td>578</td>\n",
       "      <td>1925</td>\n",
       "      <td>Indonesia</td>\n",
       "      <td>Java (and Madura)</td>\n",
       "      <td>3</td>\n",
       "      <td>1598000.0</td>\n",
       "      <td>1659000.0</td>\n",
       "      <td>1925</td>\n",
       "      <td>1.038173</td>\n",
       "    </tr>\n",
       "    <tr>\n",
       "      <th>579</th>\n",
       "      <td>579</td>\n",
       "      <td>1926</td>\n",
       "      <td>Indonesia</td>\n",
       "      <td>Java (and Madura)</td>\n",
       "      <td>3</td>\n",
       "      <td>1962000.0</td>\n",
       "      <td>2042000.0</td>\n",
       "      <td>1926</td>\n",
       "      <td>1.040775</td>\n",
       "    </tr>\n",
       "    <tr>\n",
       "      <th>...</th>\n",
       "      <td>...</td>\n",
       "      <td>...</td>\n",
       "      <td>...</td>\n",
       "      <td>...</td>\n",
       "      <td>...</td>\n",
       "      <td>...</td>\n",
       "      <td>...</td>\n",
       "      <td>...</td>\n",
       "      <td>...</td>\n",
       "    </tr>\n",
       "    <tr>\n",
       "      <th>36702</th>\n",
       "      <td>36702</td>\n",
       "      <td>2013</td>\n",
       "      <td>China</td>\n",
       "      <td>zhejiang</td>\n",
       "      <td>1</td>\n",
       "      <td>75520.0</td>\n",
       "      <td>278300.0</td>\n",
       "      <td>2013</td>\n",
       "      <td>3.685117</td>\n",
       "    </tr>\n",
       "    <tr>\n",
       "      <th>36703</th>\n",
       "      <td>36703</td>\n",
       "      <td>2014</td>\n",
       "      <td>China</td>\n",
       "      <td>zhejiang</td>\n",
       "      <td>1</td>\n",
       "      <td>82120.0</td>\n",
       "      <td>309500.0</td>\n",
       "      <td>2014</td>\n",
       "      <td>3.768875</td>\n",
       "    </tr>\n",
       "    <tr>\n",
       "      <th>36704</th>\n",
       "      <td>36704</td>\n",
       "      <td>2015</td>\n",
       "      <td>China</td>\n",
       "      <td>zhejiang</td>\n",
       "      <td>1</td>\n",
       "      <td>89800.0</td>\n",
       "      <td>351300.0</td>\n",
       "      <td>2015</td>\n",
       "      <td>3.912027</td>\n",
       "    </tr>\n",
       "    <tr>\n",
       "      <th>36705</th>\n",
       "      <td>36705</td>\n",
       "      <td>2016</td>\n",
       "      <td>China</td>\n",
       "      <td>zhejiang</td>\n",
       "      <td>1</td>\n",
       "      <td>76590.0</td>\n",
       "      <td>253900.0</td>\n",
       "      <td>2016</td>\n",
       "      <td>3.315054</td>\n",
       "    </tr>\n",
       "    <tr>\n",
       "      <th>36706</th>\n",
       "      <td>36706</td>\n",
       "      <td>2017</td>\n",
       "      <td>China</td>\n",
       "      <td>zhejiang</td>\n",
       "      <td>1</td>\n",
       "      <td>103670.0</td>\n",
       "      <td>419200.0</td>\n",
       "      <td>2017</td>\n",
       "      <td>4.043600</td>\n",
       "    </tr>\n",
       "  </tbody>\n",
       "</table>\n",
       "<p>31477 rows × 9 columns</p>\n",
       "</div>"
      ],
      "text/plain": [
       "       index  Harvest_year    country              state crop   hectares  \\\n",
       "575      575          1922  Indonesia  Java (and Madura)    3  1573000.0   \n",
       "576      576          1923  Indonesia  Java (and Madura)    3  1630000.0   \n",
       "577      577          1924  Indonesia  Java (and Madura)    3  1763000.0   \n",
       "578      578          1925  Indonesia  Java (and Madura)    3  1598000.0   \n",
       "579      579          1926  Indonesia  Java (and Madura)    3  1962000.0   \n",
       "...      ...           ...        ...                ...  ...        ...   \n",
       "36702  36702          2013      China           zhejiang    1    75520.0   \n",
       "36703  36703          2014      China           zhejiang    1    82120.0   \n",
       "36704  36704          2015      China           zhejiang    1    89800.0   \n",
       "36705  36705          2016      China           zhejiang    1    76590.0   \n",
       "36706  36706          2017      China           zhejiang    1   103670.0   \n",
       "\n",
       "       production  year     yield  \n",
       "575     1580000.0  1922  1.004450  \n",
       "576     1547000.0  1923  0.949080  \n",
       "577     1721000.0  1924  0.976177  \n",
       "578     1659000.0  1925  1.038173  \n",
       "579     2042000.0  1926  1.040775  \n",
       "...           ...   ...       ...  \n",
       "36702    278300.0  2013  3.685117  \n",
       "36703    309500.0  2014  3.768875  \n",
       "36704    351300.0  2015  3.912027  \n",
       "36705    253900.0  2016  3.315054  \n",
       "36706    419200.0  2017  4.043600  \n",
       "\n",
       "[31477 rows x 9 columns]"
      ]
     },
     "execution_count": 36,
     "metadata": {},
     "output_type": "execute_result"
    }
   ],
   "source": [
    "crop_data"
   ]
  },
  {
   "cell_type": "markdown",
   "metadata": {},
   "source": [
    "##### Dropping some more tables that we don't need. "
   ]
  },
  {
   "cell_type": "code",
   "execution_count": 37,
   "metadata": {},
   "outputs": [],
   "source": [
    "crop_data.drop(columns=[\"country\",\"state\",\"Harvest_year\"], inplace=True)"
   ]
  },
  {
   "cell_type": "markdown",
   "metadata": {},
   "source": [
    "##### Checking our final dataset"
   ]
  },
  {
   "cell_type": "code",
   "execution_count": 38,
   "metadata": {},
   "outputs": [
    {
     "data": {
      "text/html": [
       "<div>\n",
       "<style scoped>\n",
       "    .dataframe tbody tr th:only-of-type {\n",
       "        vertical-align: middle;\n",
       "    }\n",
       "\n",
       "    .dataframe tbody tr th {\n",
       "        vertical-align: top;\n",
       "    }\n",
       "\n",
       "    .dataframe thead th {\n",
       "        text-align: right;\n",
       "    }\n",
       "</style>\n",
       "<table border=\"1\" class=\"dataframe\">\n",
       "  <thead>\n",
       "    <tr style=\"text-align: right;\">\n",
       "      <th></th>\n",
       "      <th>index</th>\n",
       "      <th>crop</th>\n",
       "      <th>hectares</th>\n",
       "      <th>production</th>\n",
       "      <th>year</th>\n",
       "      <th>yield</th>\n",
       "    </tr>\n",
       "  </thead>\n",
       "  <tbody>\n",
       "    <tr>\n",
       "      <th>575</th>\n",
       "      <td>575</td>\n",
       "      <td>3</td>\n",
       "      <td>1573000.0</td>\n",
       "      <td>1580000.0</td>\n",
       "      <td>1922</td>\n",
       "      <td>1.004450</td>\n",
       "    </tr>\n",
       "    <tr>\n",
       "      <th>576</th>\n",
       "      <td>576</td>\n",
       "      <td>3</td>\n",
       "      <td>1630000.0</td>\n",
       "      <td>1547000.0</td>\n",
       "      <td>1923</td>\n",
       "      <td>0.949080</td>\n",
       "    </tr>\n",
       "    <tr>\n",
       "      <th>577</th>\n",
       "      <td>577</td>\n",
       "      <td>3</td>\n",
       "      <td>1763000.0</td>\n",
       "      <td>1721000.0</td>\n",
       "      <td>1924</td>\n",
       "      <td>0.976177</td>\n",
       "    </tr>\n",
       "    <tr>\n",
       "      <th>578</th>\n",
       "      <td>578</td>\n",
       "      <td>3</td>\n",
       "      <td>1598000.0</td>\n",
       "      <td>1659000.0</td>\n",
       "      <td>1925</td>\n",
       "      <td>1.038173</td>\n",
       "    </tr>\n",
       "    <tr>\n",
       "      <th>579</th>\n",
       "      <td>579</td>\n",
       "      <td>3</td>\n",
       "      <td>1962000.0</td>\n",
       "      <td>2042000.0</td>\n",
       "      <td>1926</td>\n",
       "      <td>1.040775</td>\n",
       "    </tr>\n",
       "    <tr>\n",
       "      <th>...</th>\n",
       "      <td>...</td>\n",
       "      <td>...</td>\n",
       "      <td>...</td>\n",
       "      <td>...</td>\n",
       "      <td>...</td>\n",
       "      <td>...</td>\n",
       "    </tr>\n",
       "    <tr>\n",
       "      <th>36702</th>\n",
       "      <td>36702</td>\n",
       "      <td>1</td>\n",
       "      <td>75520.0</td>\n",
       "      <td>278300.0</td>\n",
       "      <td>2013</td>\n",
       "      <td>3.685117</td>\n",
       "    </tr>\n",
       "    <tr>\n",
       "      <th>36703</th>\n",
       "      <td>36703</td>\n",
       "      <td>1</td>\n",
       "      <td>82120.0</td>\n",
       "      <td>309500.0</td>\n",
       "      <td>2014</td>\n",
       "      <td>3.768875</td>\n",
       "    </tr>\n",
       "    <tr>\n",
       "      <th>36704</th>\n",
       "      <td>36704</td>\n",
       "      <td>1</td>\n",
       "      <td>89800.0</td>\n",
       "      <td>351300.0</td>\n",
       "      <td>2015</td>\n",
       "      <td>3.912027</td>\n",
       "    </tr>\n",
       "    <tr>\n",
       "      <th>36705</th>\n",
       "      <td>36705</td>\n",
       "      <td>1</td>\n",
       "      <td>76590.0</td>\n",
       "      <td>253900.0</td>\n",
       "      <td>2016</td>\n",
       "      <td>3.315054</td>\n",
       "    </tr>\n",
       "    <tr>\n",
       "      <th>36706</th>\n",
       "      <td>36706</td>\n",
       "      <td>1</td>\n",
       "      <td>103670.0</td>\n",
       "      <td>419200.0</td>\n",
       "      <td>2017</td>\n",
       "      <td>4.043600</td>\n",
       "    </tr>\n",
       "  </tbody>\n",
       "</table>\n",
       "<p>31477 rows × 6 columns</p>\n",
       "</div>"
      ],
      "text/plain": [
       "       index crop   hectares  production  year     yield\n",
       "575      575    3  1573000.0   1580000.0  1922  1.004450\n",
       "576      576    3  1630000.0   1547000.0  1923  0.949080\n",
       "577      577    3  1763000.0   1721000.0  1924  0.976177\n",
       "578      578    3  1598000.0   1659000.0  1925  1.038173\n",
       "579      579    3  1962000.0   2042000.0  1926  1.040775\n",
       "...      ...  ...        ...         ...   ...       ...\n",
       "36702  36702    1    75520.0    278300.0  2013  3.685117\n",
       "36703  36703    1    82120.0    309500.0  2014  3.768875\n",
       "36704  36704    1    89800.0    351300.0  2015  3.912027\n",
       "36705  36705    1    76590.0    253900.0  2016  3.315054\n",
       "36706  36706    1   103670.0    419200.0  2017  4.043600\n",
       "\n",
       "[31477 rows x 6 columns]"
      ]
     },
     "execution_count": 38,
     "metadata": {},
     "output_type": "execute_result"
    }
   ],
   "source": [
    "crop_data"
   ]
  },
  {
   "cell_type": "code",
   "execution_count": 39,
   "metadata": {},
   "outputs": [],
   "source": [
    "crop_data.reset_index(drop=True, inplace=True)"
   ]
  },
  {
   "cell_type": "code",
   "execution_count": 40,
   "metadata": {},
   "outputs": [
    {
     "data": {
      "text/html": [
       "<div>\n",
       "<style scoped>\n",
       "    .dataframe tbody tr th:only-of-type {\n",
       "        vertical-align: middle;\n",
       "    }\n",
       "\n",
       "    .dataframe tbody tr th {\n",
       "        vertical-align: top;\n",
       "    }\n",
       "\n",
       "    .dataframe thead th {\n",
       "        text-align: right;\n",
       "    }\n",
       "</style>\n",
       "<table border=\"1\" class=\"dataframe\">\n",
       "  <thead>\n",
       "    <tr style=\"text-align: right;\">\n",
       "      <th></th>\n",
       "      <th>index</th>\n",
       "      <th>crop</th>\n",
       "      <th>hectares</th>\n",
       "      <th>production</th>\n",
       "      <th>year</th>\n",
       "      <th>yield</th>\n",
       "    </tr>\n",
       "  </thead>\n",
       "  <tbody>\n",
       "    <tr>\n",
       "      <th>0</th>\n",
       "      <td>575</td>\n",
       "      <td>3</td>\n",
       "      <td>1573000.0</td>\n",
       "      <td>1580000.0</td>\n",
       "      <td>1922</td>\n",
       "      <td>1.004450</td>\n",
       "    </tr>\n",
       "    <tr>\n",
       "      <th>1</th>\n",
       "      <td>576</td>\n",
       "      <td>3</td>\n",
       "      <td>1630000.0</td>\n",
       "      <td>1547000.0</td>\n",
       "      <td>1923</td>\n",
       "      <td>0.949080</td>\n",
       "    </tr>\n",
       "    <tr>\n",
       "      <th>2</th>\n",
       "      <td>577</td>\n",
       "      <td>3</td>\n",
       "      <td>1763000.0</td>\n",
       "      <td>1721000.0</td>\n",
       "      <td>1924</td>\n",
       "      <td>0.976177</td>\n",
       "    </tr>\n",
       "    <tr>\n",
       "      <th>3</th>\n",
       "      <td>578</td>\n",
       "      <td>3</td>\n",
       "      <td>1598000.0</td>\n",
       "      <td>1659000.0</td>\n",
       "      <td>1925</td>\n",
       "      <td>1.038173</td>\n",
       "    </tr>\n",
       "    <tr>\n",
       "      <th>4</th>\n",
       "      <td>579</td>\n",
       "      <td>3</td>\n",
       "      <td>1962000.0</td>\n",
       "      <td>2042000.0</td>\n",
       "      <td>1926</td>\n",
       "      <td>1.040775</td>\n",
       "    </tr>\n",
       "    <tr>\n",
       "      <th>...</th>\n",
       "      <td>...</td>\n",
       "      <td>...</td>\n",
       "      <td>...</td>\n",
       "      <td>...</td>\n",
       "      <td>...</td>\n",
       "      <td>...</td>\n",
       "    </tr>\n",
       "    <tr>\n",
       "      <th>31472</th>\n",
       "      <td>36702</td>\n",
       "      <td>1</td>\n",
       "      <td>75520.0</td>\n",
       "      <td>278300.0</td>\n",
       "      <td>2013</td>\n",
       "      <td>3.685117</td>\n",
       "    </tr>\n",
       "    <tr>\n",
       "      <th>31473</th>\n",
       "      <td>36703</td>\n",
       "      <td>1</td>\n",
       "      <td>82120.0</td>\n",
       "      <td>309500.0</td>\n",
       "      <td>2014</td>\n",
       "      <td>3.768875</td>\n",
       "    </tr>\n",
       "    <tr>\n",
       "      <th>31474</th>\n",
       "      <td>36704</td>\n",
       "      <td>1</td>\n",
       "      <td>89800.0</td>\n",
       "      <td>351300.0</td>\n",
       "      <td>2015</td>\n",
       "      <td>3.912027</td>\n",
       "    </tr>\n",
       "    <tr>\n",
       "      <th>31475</th>\n",
       "      <td>36705</td>\n",
       "      <td>1</td>\n",
       "      <td>76590.0</td>\n",
       "      <td>253900.0</td>\n",
       "      <td>2016</td>\n",
       "      <td>3.315054</td>\n",
       "    </tr>\n",
       "    <tr>\n",
       "      <th>31476</th>\n",
       "      <td>36706</td>\n",
       "      <td>1</td>\n",
       "      <td>103670.0</td>\n",
       "      <td>419200.0</td>\n",
       "      <td>2017</td>\n",
       "      <td>4.043600</td>\n",
       "    </tr>\n",
       "  </tbody>\n",
       "</table>\n",
       "<p>31477 rows × 6 columns</p>\n",
       "</div>"
      ],
      "text/plain": [
       "       index crop   hectares  production  year     yield\n",
       "0        575    3  1573000.0   1580000.0  1922  1.004450\n",
       "1        576    3  1630000.0   1547000.0  1923  0.949080\n",
       "2        577    3  1763000.0   1721000.0  1924  0.976177\n",
       "3        578    3  1598000.0   1659000.0  1925  1.038173\n",
       "4        579    3  1962000.0   2042000.0  1926  1.040775\n",
       "...      ...  ...        ...         ...   ...       ...\n",
       "31472  36702    1    75520.0    278300.0  2013  3.685117\n",
       "31473  36703    1    82120.0    309500.0  2014  3.768875\n",
       "31474  36704    1    89800.0    351300.0  2015  3.912027\n",
       "31475  36705    1    76590.0    253900.0  2016  3.315054\n",
       "31476  36706    1   103670.0    419200.0  2017  4.043600\n",
       "\n",
       "[31477 rows x 6 columns]"
      ]
     },
     "execution_count": 40,
     "metadata": {},
     "output_type": "execute_result"
    }
   ],
   "source": [
    "crop_data"
   ]
  },
  {
   "cell_type": "markdown",
   "metadata": {},
   "source": [
    "##### Let's export our cleaned dataset to a csv file."
   ]
  },
  {
   "cell_type": "code",
   "execution_count": null,
   "metadata": {},
   "outputs": [],
   "source": [
    "crop_data.to_csv(\"../4. Other/4.1 Datasets/Crop/Crop cleaned_2.csv\")"
   ]
  },
  {
   "cell_type": "markdown",
   "metadata": {},
   "source": [
    "##### Checking the saved csv file"
   ]
  },
  {
   "cell_type": "code",
   "execution_count": 41,
   "metadata": {},
   "outputs": [],
   "source": [
    "dataset = pd.read_csv(\"../4. Other/4.1 Datasets/Crop/Crop cleaned_2.csv\",delimiter=',')"
   ]
  },
  {
   "cell_type": "code",
   "execution_count": 42,
   "metadata": {},
   "outputs": [
    {
     "data": {
      "text/html": [
       "<div>\n",
       "<style scoped>\n",
       "    .dataframe tbody tr th:only-of-type {\n",
       "        vertical-align: middle;\n",
       "    }\n",
       "\n",
       "    .dataframe tbody tr th {\n",
       "        vertical-align: top;\n",
       "    }\n",
       "\n",
       "    .dataframe thead th {\n",
       "        text-align: right;\n",
       "    }\n",
       "</style>\n",
       "<table border=\"1\" class=\"dataframe\">\n",
       "  <thead>\n",
       "    <tr style=\"text-align: right;\">\n",
       "      <th></th>\n",
       "      <th>Unnamed: 0</th>\n",
       "      <th>index</th>\n",
       "      <th>crop</th>\n",
       "      <th>hectares</th>\n",
       "      <th>production</th>\n",
       "      <th>year</th>\n",
       "      <th>yield</th>\n",
       "    </tr>\n",
       "  </thead>\n",
       "  <tbody>\n",
       "    <tr>\n",
       "      <th>0</th>\n",
       "      <td>0</td>\n",
       "      <td>0</td>\n",
       "      <td>wheat</td>\n",
       "      <td>NaN</td>\n",
       "      <td>NaN</td>\n",
       "      <td>1902</td>\n",
       "      <td>1.310000</td>\n",
       "    </tr>\n",
       "    <tr>\n",
       "      <th>1</th>\n",
       "      <td>1</td>\n",
       "      <td>1</td>\n",
       "      <td>wheat</td>\n",
       "      <td>NaN</td>\n",
       "      <td>NaN</td>\n",
       "      <td>1903</td>\n",
       "      <td>1.470000</td>\n",
       "    </tr>\n",
       "    <tr>\n",
       "      <th>2</th>\n",
       "      <td>2</td>\n",
       "      <td>2</td>\n",
       "      <td>wheat</td>\n",
       "      <td>NaN</td>\n",
       "      <td>NaN</td>\n",
       "      <td>1904</td>\n",
       "      <td>1.270000</td>\n",
       "    </tr>\n",
       "    <tr>\n",
       "      <th>3</th>\n",
       "      <td>3</td>\n",
       "      <td>3</td>\n",
       "      <td>wheat</td>\n",
       "      <td>NaN</td>\n",
       "      <td>NaN</td>\n",
       "      <td>1905</td>\n",
       "      <td>1.330000</td>\n",
       "    </tr>\n",
       "    <tr>\n",
       "      <th>4</th>\n",
       "      <td>4</td>\n",
       "      <td>4</td>\n",
       "      <td>wheat</td>\n",
       "      <td>NaN</td>\n",
       "      <td>NaN</td>\n",
       "      <td>1906</td>\n",
       "      <td>1.280000</td>\n",
       "    </tr>\n",
       "    <tr>\n",
       "      <th>...</th>\n",
       "      <td>...</td>\n",
       "      <td>...</td>\n",
       "      <td>...</td>\n",
       "      <td>...</td>\n",
       "      <td>...</td>\n",
       "      <td>...</td>\n",
       "      <td>...</td>\n",
       "    </tr>\n",
       "    <tr>\n",
       "      <th>36702</th>\n",
       "      <td>36702</td>\n",
       "      <td>36702</td>\n",
       "      <td>wheat</td>\n",
       "      <td>75520.0</td>\n",
       "      <td>278300.0</td>\n",
       "      <td>2013</td>\n",
       "      <td>3.685117</td>\n",
       "    </tr>\n",
       "    <tr>\n",
       "      <th>36703</th>\n",
       "      <td>36703</td>\n",
       "      <td>36703</td>\n",
       "      <td>wheat</td>\n",
       "      <td>82120.0</td>\n",
       "      <td>309500.0</td>\n",
       "      <td>2014</td>\n",
       "      <td>3.768875</td>\n",
       "    </tr>\n",
       "    <tr>\n",
       "      <th>36704</th>\n",
       "      <td>36704</td>\n",
       "      <td>36704</td>\n",
       "      <td>wheat</td>\n",
       "      <td>89800.0</td>\n",
       "      <td>351300.0</td>\n",
       "      <td>2015</td>\n",
       "      <td>3.912027</td>\n",
       "    </tr>\n",
       "    <tr>\n",
       "      <th>36705</th>\n",
       "      <td>36705</td>\n",
       "      <td>36705</td>\n",
       "      <td>wheat</td>\n",
       "      <td>76590.0</td>\n",
       "      <td>253900.0</td>\n",
       "      <td>2016</td>\n",
       "      <td>3.315054</td>\n",
       "    </tr>\n",
       "    <tr>\n",
       "      <th>36706</th>\n",
       "      <td>36706</td>\n",
       "      <td>36706</td>\n",
       "      <td>wheat</td>\n",
       "      <td>103670.0</td>\n",
       "      <td>419200.0</td>\n",
       "      <td>2017</td>\n",
       "      <td>4.043600</td>\n",
       "    </tr>\n",
       "  </tbody>\n",
       "</table>\n",
       "<p>36707 rows × 7 columns</p>\n",
       "</div>"
      ],
      "text/plain": [
       "       Unnamed: 0  index   crop  hectares  production  year     yield\n",
       "0               0      0  wheat       NaN         NaN  1902  1.310000\n",
       "1               1      1  wheat       NaN         NaN  1903  1.470000\n",
       "2               2      2  wheat       NaN         NaN  1904  1.270000\n",
       "3               3      3  wheat       NaN         NaN  1905  1.330000\n",
       "4               4      4  wheat       NaN         NaN  1906  1.280000\n",
       "...           ...    ...    ...       ...         ...   ...       ...\n",
       "36702       36702  36702  wheat   75520.0    278300.0  2013  3.685117\n",
       "36703       36703  36703  wheat   82120.0    309500.0  2014  3.768875\n",
       "36704       36704  36704  wheat   89800.0    351300.0  2015  3.912027\n",
       "36705       36705  36705  wheat   76590.0    253900.0  2016  3.315054\n",
       "36706       36706  36706  wheat  103670.0    419200.0  2017  4.043600\n",
       "\n",
       "[36707 rows x 7 columns]"
      ]
     },
     "execution_count": 42,
     "metadata": {},
     "output_type": "execute_result"
    }
   ],
   "source": [
    "dataset"
   ]
  },
  {
   "cell_type": "markdown",
   "metadata": {},
   "source": [
    "##### Let's see the production of crops all over the year"
   ]
  },
  {
   "cell_type": "code",
   "execution_count": 43,
   "metadata": {},
   "outputs": [],
   "source": [
    "sample_data = dataset[(dataset[\"year\"] >= 2010) & (dataset[\"year\"] <= 2017)]\n",
    "\n",
    "aggregated_data = sample_data.groupby(\"year\")[\"production\"].sum().reset_index()\n",
    "\n",
    "\n",
    "## In this code, we first filter the dataset to include only the records for the years 2000 to 2005. Then, we use the groupby function to group the data by year and calculate the sum of production for each year. Finally, we plot the aggregated data to create a line graph. This approach accounts for duplicate years by summing up the production values for each year within the specified range.\n",
    "years = np.array(aggregated_data[\"year\"])\n",
    "productions = np.array(aggregated_data[\"production\"])"
   ]
  },
  {
   "cell_type": "markdown",
   "metadata": {},
   "source": [
    "* this code filters a dataset, aggregates data by year, and then creates a line plot to visualize the production data from 2010 to 2017 while customizing the y-axis label format for better readability. The resulting plot should display the trend of production over these years."
   ]
  },
  {
   "cell_type": "code",
   "execution_count": 44,
   "metadata": {},
   "outputs": [
    {
     "data": {
      "image/png": "[encoded data removed]",
      "text/plain": [
       "<Figure size 1500x800 with 1 Axes>"
      ]
     },
     "metadata": {},
     "output_type": "display_data"
    }
   ],
   "source": [
    "from matplotlib.ticker import FuncFormatter\n",
    "plt.figure(figsize=(15, 8))  # You can adjust the figure size as needed\n",
    "plt.plot(years, productions, marker='o', linestyle='-')\n",
    "plt.title('Production Over the Years')\n",
    "plt.xlabel('Year')\n",
    "plt.ylabel('Production')\n",
    "\n",
    "# Define a custom tick format function to format values in thousands\n",
    "def custom_format(x, pos):\n",
    "    if x >= 1e6:\n",
    "        return f'{x / 1e6:.0f}M'\n",
    "    elif x >= 1e3:\n",
    "        return f'{x / 1e3:.0f}k'\n",
    "    else:\n",
    "        return f'{x:.0f}'\n",
    "\n",
    "# Apply the custom format to the y-axis\n",
    "formatter = FuncFormatter(custom_format)\n",
    "plt.gca().yaxis.set_major_formatter(formatter)\n",
    "\n",
    "plt.grid(True)\n",
    "\n",
    "# Display the graph (you can also save it to a file if needed)\n",
    "plt.show()"
   ]
  }
 ],
 "metadata": {
  "kernelspec": {
   "display_name": ".venv",
   "language": "python",
   "name": "python3"
  },
  "language_info": {
   "codemirror_mode": {
    "name": "ipython",
    "version": 3
   },
   "file_extension": ".py",
   "mimetype": "text/x-python",
   "name": "python",
   "nbconvert_exporter": "python",
   "pygments_lexer": "ipython3",
   "version": "3.10.13"
  }
 },
 "nbformat": 4,
 "nbformat_minor": 2
}
