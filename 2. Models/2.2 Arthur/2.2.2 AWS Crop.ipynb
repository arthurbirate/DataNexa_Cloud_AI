{
 "cells": [
  {
   "cell_type": "markdown",
   "metadata": {},
   "source": [
    "<h2>"
   ]
  },
  {
   "cell_type": "markdown",
   "metadata": {},
   "source": []
  },
  {
   "cell_type": "markdown",
   "metadata": {},
   "source": []
  },
  {
   "cell_type": "markdown",
   "metadata": {},
   "source": [
    "## Crop Dataset with AWS - Arthur Birate Kabanza"
   ]
  },
  {
   "cell_type": "markdown",
   "metadata": {},
   "source": []
  },
  {
   "cell_type": "markdown",
   "metadata": {},
   "source": [
    "* The code reads and explains the data from the CSV file after installing the necessary libraries, giving you an understanding of the dataset's properties."
   ]
  },
  {
   "cell_type": "markdown",
   "metadata": {},
   "source": [
    "![](./screenshots_crop/1.1.png)"
   ]
  },
  {
   "cell_type": "markdown",
   "metadata": {},
   "source": [
    "* These two lines of code remove columns from the DataFrame that are likely unnecessary for the machine learning operations that are intended to be performed. 'Unnamed: 0' and \"index\" columns will be removed from the dataset following these actions."
   ]
  },
  {
   "cell_type": "markdown",
   "metadata": {},
   "source": [
    "![](./screenshots_crop/2.png)"
   ]
  },
  {
   "cell_type": "markdown",
   "metadata": {},
   "source": [
    "* Calling dataset.head(20) gives us a brief overview of the data so we can quickly assess the organization and content of the dataset."
   ]
  },
  {
   "cell_type": "markdown",
   "metadata": {},
   "source": [
    "![](./screenshots_crop/3.png)"
   ]
  },
  {
   "cell_type": "markdown",
   "metadata": {},
   "source": [
    "* This code extracts the \"yield\" column as the output variable, selects particular columns of interest, and gets the dataset ready for additional analysis. Whenever you are working on a machine learning or predictive modeling activity, the \"yield\" column is usually the target variable."
   ]
  },
  {
   "cell_type": "markdown",
   "metadata": {},
   "source": [
    "![](./screenshots_crop/4.png)"
   ]
  },
  {
   "cell_type": "markdown",
   "metadata": {},
   "source": [
    "* This code's main goal is to divide a dataset into three machine learning-focused subsets: a training set, a testing set, and a validation set. Machine learning models are trained and assessed using these subsets. The validation set is frequently used for adjusting hyperparameters and additional assessment. The training set is utilized to train the model, the testing set is used to assess its performance."
   ]
  },
  {
   "cell_type": "markdown",
   "metadata": {},
   "source": [
    "![](./screenshots_crop/5.png)"
   ]
  },
  {
   "cell_type": "markdown",
   "metadata": {},
   "source": [
    "![](./screenshots_crop/7.png)"
   ]
  },
  {
   "cell_type": "markdown",
   "metadata": {},
   "source": [
    "* The AWS region, the XGBoost container image and hyperparameters, and the input data channels for training and validation datasets are all set up for a SageMaker training job by this code. To define and start a SageMaker training job for an XGBoost model, these elements are necessary."
   ]
  },
  {
   "cell_type": "markdown",
   "metadata": {},
   "source": [
    "![](./screenshots_crop/6.png)"
   ]
  },
  {
   "cell_type": "markdown",
   "metadata": {},
   "source": [
    "* By fitting the XGBoost model to the given data and subsequently deploying the trained model as a SageMaker endpoint for prediction, this code snippet completes the SageMaker workflow."
   ]
  },
  {
   "cell_type": "markdown",
   "metadata": {},
   "source": [
    "![](./screenshots_crop/7%2017.40.08.png)"
   ]
  },
  {
   "cell_type": "markdown",
   "metadata": {},
   "source": [
    "* This code sample shows how to get ready for a prediction by preparing a particular row of data, sending it to a deployed SageMaker endpoint to get predictions from the trained XGBoost model, and cleaning up by deleting the endpoint."
   ]
  },
  {
   "cell_type": "markdown",
   "metadata": {},
   "source": [
    "![](./screenshots_crop/8.png)"
   ]
  },
  {
   "cell_type": "markdown",
   "metadata": {},
   "source": [
    "* this code performs batch transformation using a SageMaker Transformer, stores the results in an S3 bucket, and then reads the transformed data back into a Pandas DataFrame for further analysis or processing."
   ]
  },
  {
   "cell_type": "markdown",
   "metadata": {},
   "source": [
    "![](./screenshots_crop/9.png)"
   ]
  },
  {
   "cell_type": "markdown",
   "metadata": {},
   "source": [
    "* In order to evaluate the model's performance by comparing the actual and predicted values, the code prepares the real labels from the test dataset and the model's predicted labels from target_predicted. The true labels are stored in the test_labels variable, while the predicted values are stored in the target_predicted_1D field."
   ]
  },
  {
   "cell_type": "markdown",
   "metadata": {},
   "source": [
    "![](./screenshots_crop/10.png)"
   ]
  },
  {
   "cell_type": "markdown",
   "metadata": {},
   "source": [
    "* this code evaluates the performance of a regression model by computing and displaying three common metrics: RMSE, MAE, and MSE. These metrics help assess the quality of predictions made by the model and provide insights into how well the model fits the data."
   ]
  },
  {
   "cell_type": "markdown",
   "metadata": {},
   "source": [
    "![](./screenshots_crop/12.png)"
   ]
  },
  {
   "cell_type": "markdown",
   "metadata": {},
   "source": [
    "![](./screenshots_crop/13.png)"
   ]
  }
 ],
 "metadata": {
  "kernelspec": {
   "display_name": ".venv",
   "language": "python",
   "name": "python3"
  },
  "language_info": {
   "codemirror_mode": {
    "name": "ipython",
    "version": 3
   },
   "file_extension": ".py",
   "mimetype": "text/x-python",
   "name": "python",
   "nbconvert_exporter": "python",
   "pygments_lexer": "ipython3",
   "version": "3.10.13"
  }
 },
 "nbformat": 4,
 "nbformat_minor": 2
}
