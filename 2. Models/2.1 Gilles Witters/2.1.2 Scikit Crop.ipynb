{
 "cells": [
  {
   "cell_type": "markdown",
   "metadata": {},
   "source": [
    "<h2>Scikit learn - Crop dataset - Gilles Witters"
   ]
  },
  {
   "cell_type": "markdown",
   "metadata": {},
   "source": [
    "In this notebook I will explain how I used Scikit learn to create a prediction on the crop dataset."
   ]
  },
  {
   "cell_type": "code",
   "execution_count": 4,
   "metadata": {},
   "outputs": [
    {
     "ename": "ValueError",
     "evalue": "Unknown label type: continuous. Maybe you are trying to fit a classifier, which expects discrete classes on a regression target with continuous values.",
     "output_type": "error",
     "traceback": [
      "\u001b[0;31m---------------------------------------------------------------------------\u001b[0m",
      "\u001b[0;31mValueError\u001b[0m                                Traceback (most recent call last)",
      "\u001b[1;32m/Users/gillesw/Documents/Learning/Cloud AI/Project/DataNexa_Cloud_AI/2. Models/2.1 Gilles Witters/2.1.2 Scikit Crop.ipynb Cell 3\u001b[0m line \u001b[0;36m1\n\u001b[1;32m     <a href='vscode-notebook-cell:/Users/gillesw/Documents/Learning/Cloud%20AI/Project/DataNexa_Cloud_AI/2.%20Models/2.1%20Gilles%20Witters/2.1.2%20Scikit%20Crop.ipynb#W2sZmlsZQ%3D%3D?line=14'>15</a>\u001b[0m \u001b[39m# Model\u001b[39;00m\n\u001b[1;32m     <a href='vscode-notebook-cell:/Users/gillesw/Documents/Learning/Cloud%20AI/Project/DataNexa_Cloud_AI/2.%20Models/2.1%20Gilles%20Witters/2.1.2%20Scikit%20Crop.ipynb#W2sZmlsZQ%3D%3D?line=15'>16</a>\u001b[0m clf \u001b[39m=\u001b[39m HistGradientBoostingClassifier(max_depth\u001b[39m=\u001b[39m\u001b[39m20\u001b[39m)\n\u001b[0;32m---> <a href='vscode-notebook-cell:/Users/gillesw/Documents/Learning/Cloud%20AI/Project/DataNexa_Cloud_AI/2.%20Models/2.1%20Gilles%20Witters/2.1.2%20Scikit%20Crop.ipynb#W2sZmlsZQ%3D%3D?line=16'>17</a>\u001b[0m clf\u001b[39m.\u001b[39;49mfit(X_train, y_train)\n\u001b[1;32m     <a href='vscode-notebook-cell:/Users/gillesw/Documents/Learning/Cloud%20AI/Project/DataNexa_Cloud_AI/2.%20Models/2.1%20Gilles%20Witters/2.1.2%20Scikit%20Crop.ipynb#W2sZmlsZQ%3D%3D?line=17'>18</a>\u001b[0m y_pred \u001b[39m=\u001b[39m clf\u001b[39m.\u001b[39mpredict(X_test)\n\u001b[1;32m     <a href='vscode-notebook-cell:/Users/gillesw/Documents/Learning/Cloud%20AI/Project/DataNexa_Cloud_AI/2.%20Models/2.1%20Gilles%20Witters/2.1.2%20Scikit%20Crop.ipynb#W2sZmlsZQ%3D%3D?line=18'>19</a>\u001b[0m accuracy \u001b[39m=\u001b[39m clf\u001b[39m.\u001b[39mscore(X_test, y_test)\n",
      "File \u001b[0;32m~/Library/Python/3.9/lib/python/site-packages/sklearn/base.py:1152\u001b[0m, in \u001b[0;36m_fit_context.<locals>.decorator.<locals>.wrapper\u001b[0;34m(estimator, *args, **kwargs)\u001b[0m\n\u001b[1;32m   1145\u001b[0m     estimator\u001b[39m.\u001b[39m_validate_params()\n\u001b[1;32m   1147\u001b[0m \u001b[39mwith\u001b[39;00m config_context(\n\u001b[1;32m   1148\u001b[0m     skip_parameter_validation\u001b[39m=\u001b[39m(\n\u001b[1;32m   1149\u001b[0m         prefer_skip_nested_validation \u001b[39mor\u001b[39;00m global_skip_validation\n\u001b[1;32m   1150\u001b[0m     )\n\u001b[1;32m   1151\u001b[0m ):\n\u001b[0;32m-> 1152\u001b[0m     \u001b[39mreturn\u001b[39;00m fit_method(estimator, \u001b[39m*\u001b[39;49margs, \u001b[39m*\u001b[39;49m\u001b[39m*\u001b[39;49mkwargs)\n",
      "File \u001b[0;32m~/Library/Python/3.9/lib/python/site-packages/sklearn/ensemble/_hist_gradient_boosting/gradient_boosting.py:372\u001b[0m, in \u001b[0;36mBaseHistGradientBoosting.fit\u001b[0;34m(self, X, y, sample_weight)\u001b[0m\n\u001b[1;32m    370\u001b[0m acc_prediction_time \u001b[39m=\u001b[39m \u001b[39m0.0\u001b[39m\n\u001b[1;32m    371\u001b[0m X, y \u001b[39m=\u001b[39m \u001b[39mself\u001b[39m\u001b[39m.\u001b[39m_validate_data(X, y, dtype\u001b[39m=\u001b[39m[X_DTYPE], force_all_finite\u001b[39m=\u001b[39m\u001b[39mFalse\u001b[39;00m)\n\u001b[0;32m--> 372\u001b[0m y \u001b[39m=\u001b[39m \u001b[39mself\u001b[39;49m\u001b[39m.\u001b[39;49m_encode_y(y)\n\u001b[1;32m    373\u001b[0m check_consistent_length(X, y)\n\u001b[1;32m    374\u001b[0m \u001b[39m# Do not create unit sample weights by default to later skip some\u001b[39;00m\n\u001b[1;32m    375\u001b[0m \u001b[39m# computation\u001b[39;00m\n",
      "File \u001b[0;32m~/Library/Python/3.9/lib/python/site-packages/sklearn/ensemble/_hist_gradient_boosting/gradient_boosting.py:1990\u001b[0m, in \u001b[0;36mHistGradientBoostingClassifier._encode_y\u001b[0;34m(self, y)\u001b[0m\n\u001b[1;32m   1987\u001b[0m \u001b[39mdef\u001b[39;00m \u001b[39m_encode_y\u001b[39m(\u001b[39mself\u001b[39m, y):\n\u001b[1;32m   1988\u001b[0m     \u001b[39m# encode classes into 0 ... n_classes - 1 and sets attributes classes_\u001b[39;00m\n\u001b[1;32m   1989\u001b[0m     \u001b[39m# and n_trees_per_iteration_\u001b[39;00m\n\u001b[0;32m-> 1990\u001b[0m     check_classification_targets(y)\n\u001b[1;32m   1992\u001b[0m     label_encoder \u001b[39m=\u001b[39m LabelEncoder()\n\u001b[1;32m   1993\u001b[0m     encoded_y \u001b[39m=\u001b[39m label_encoder\u001b[39m.\u001b[39mfit_transform(y)\n",
      "File \u001b[0;32m~/Library/Python/3.9/lib/python/site-packages/sklearn/utils/multiclass.py:216\u001b[0m, in \u001b[0;36mcheck_classification_targets\u001b[0;34m(y)\u001b[0m\n\u001b[1;32m    208\u001b[0m y_type \u001b[39m=\u001b[39m type_of_target(y, input_name\u001b[39m=\u001b[39m\u001b[39m\"\u001b[39m\u001b[39my\u001b[39m\u001b[39m\"\u001b[39m)\n\u001b[1;32m    209\u001b[0m \u001b[39mif\u001b[39;00m y_type \u001b[39mnot\u001b[39;00m \u001b[39min\u001b[39;00m [\n\u001b[1;32m    210\u001b[0m     \u001b[39m\"\u001b[39m\u001b[39mbinary\u001b[39m\u001b[39m\"\u001b[39m,\n\u001b[1;32m    211\u001b[0m     \u001b[39m\"\u001b[39m\u001b[39mmulticlass\u001b[39m\u001b[39m\"\u001b[39m,\n\u001b[0;32m   (...)\u001b[0m\n\u001b[1;32m    214\u001b[0m     \u001b[39m\"\u001b[39m\u001b[39mmultilabel-sequences\u001b[39m\u001b[39m\"\u001b[39m,\n\u001b[1;32m    215\u001b[0m ]:\n\u001b[0;32m--> 216\u001b[0m     \u001b[39mraise\u001b[39;00m \u001b[39mValueError\u001b[39;00m(\n\u001b[1;32m    217\u001b[0m         \u001b[39mf\u001b[39m\u001b[39m\"\u001b[39m\u001b[39mUnknown label type: \u001b[39m\u001b[39m{\u001b[39;00my_type\u001b[39m}\u001b[39;00m\u001b[39m. Maybe you are trying to fit a \u001b[39m\u001b[39m\"\u001b[39m\n\u001b[1;32m    218\u001b[0m         \u001b[39m\"\u001b[39m\u001b[39mclassifier, which expects discrete classes on a \u001b[39m\u001b[39m\"\u001b[39m\n\u001b[1;32m    219\u001b[0m         \u001b[39m\"\u001b[39m\u001b[39mregression target with continuous values.\u001b[39m\u001b[39m\"\u001b[39m\n\u001b[1;32m    220\u001b[0m     )\n",
      "\u001b[0;31mValueError\u001b[0m: Unknown label type: continuous. Maybe you are trying to fit a classifier, which expects discrete classes on a regression target with continuous values."
     ]
    }
   ],
   "source": [
    "import pandas as pd\n",
    "from sklearn.ensemble import HistGradientBoostingClassifier\n",
    "from sklearn.model_selection import train_test_split\n",
    "\n",
    "# Load the Titanic dataset.\n",
    "titanic_df = pd.read_csv('../../4. Other/4.1 Datasets/Crop/Crop cleaned_1.csv')\n",
    "\n",
    "# Split the data into training and test sets.\n",
    "X_train, X_test, y_train, y_test = train_test_split(\n",
    "    titanic_df[['Harvest_year', 'crop']],\n",
    "    titanic_df['production'],  # Removed double brackets to make y_train and y_test 1D arrays\n",
    "    test_size=0.2,\n",
    "    random_state=0)\n",
    "\n",
    "# Model\n",
    "clf = HistGradientBoostingClassifier(max_depth=20)\n",
    "clf.fit(X_train, y_train)\n",
    "y_pred = clf.predict(X_test)\n",
    "accuracy = clf.score(X_test, y_test)\n",
    "\n",
    "# Print the accuracy of the model.\n",
    "print(\"Accuracy: {:.2f}%\".format(accuracy))\n"
   ]
  }
 ],
 "metadata": {
  "kernelspec": {
   "display_name": "Python 3",
   "language": "python",
   "name": "python3"
  },
  "language_info": {
   "codemirror_mode": {
    "name": "ipython",
    "version": 3
   },
   "file_extension": ".py",
   "mimetype": "text/x-python",
   "name": "python",
   "nbconvert_exporter": "python",
   "pygments_lexer": "ipython3",
   "version": "3.9.6"
  }
 },
 "nbformat": 4,
 "nbformat_minor": 2
}
